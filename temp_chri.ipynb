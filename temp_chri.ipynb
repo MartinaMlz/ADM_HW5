{
 "cells": [
  {
   "cell_type": "code",
   "execution_count": 109,
   "id": "da422bee-b85a-4c36-be31-d3582b460042",
   "metadata": {},
   "outputs": [],
   "source": [
    "import pandas as pd\n",
    "from collections import defaultdict\n",
    "from tqdm.notebook import tqdm"
   ]
  },
  {
   "cell_type": "code",
   "execution_count": 122,
   "id": "09c2c677-1a54-44fd-bf1d-0effeb891d60",
   "metadata": {},
   "outputs": [],
   "source": [
    "class DiGraph():\n",
    "    '''\n",
    "    basic directed graph\n",
    "    '''\n",
    "    \n",
    "    def __init__(self, default_attribute = None):\n",
    "        \"\"\"\n",
    "        internally we save it both as an adjacency list and as a list of edges\n",
    "        for convenience in computation\n",
    "        \"\"\"\n",
    "        \n",
    "        def default_None_dict():\n",
    "            return defaultdict(lambda : default_attribute)\n",
    "        \n",
    "        self.edges_list = defaultdict(lambda : default_attribute)\n",
    "        self.adjacency = defaultdict(default_None_dict)\n",
    "    \n",
    "    @property\n",
    "    def graph_type(self):\n",
    "        return 'Directed Graph'\n",
    "    \n",
    "    def __repr__(self):\n",
    "        \"\"\"\"\"\"\n",
    "        return 'DiGraph()'\n",
    "    \n",
    "    def __getitem__(self, key):\n",
    "        return list(self.adjacency[key].keys())\n",
    "    \n",
    "    def add_node(self, node):\n",
    "        self.adjacency[node]\n",
    "    \n",
    "    @property\n",
    "    def nodes(self):\n",
    "        return list(self.adjacency.keys())\n",
    "    \n",
    "    @property\n",
    "    def edges(self):\n",
    "        return list(self.edges_list.keys())\n",
    "    \n",
    "    def adj(self):\n",
    "        return(dict(map(lambda x: (x[0], list(x[1].keys())), self.adjacency.items())))\n",
    "    \n",
    "    def add_edge(self, edge0, edge1):\n",
    "        self.add_node(edge1)\n",
    "        self.adjacency[edge0][edge1]\n",
    "        self.edges_list[(edge0, edge1,)]\n",
    "    \n",
    "    @property\n",
    "    def n_nodes(self):\n",
    "        return len(self.adjacency)\n",
    "    \n",
    "    @property\n",
    "    def n_edges(self):\n",
    "        return len(self.edges_list)\n",
    "    \n",
    "    @property\n",
    "    def get_average_links(self):\n",
    "        return self.n_edges / self.n_nodes\n",
    "    \n",
    "    @property\n",
    "    def get_density(self):\n",
    "        possible_edges = self.n_nodes * (self.n_nodes - 1)\n",
    "        return self.n_edges / possible_edges\n",
    "    \n",
    "    @property\n",
    "    def isDense(self):\n",
    "        is_dense = self.get_density >= 0.5\n",
    "        return is_dense\n",
    "    \n",
    "    @property\n",
    "    def isSparse(self):\n",
    "        return (not self.isDense)\n",
    "    \n",
    "    \n",
    "class weightedDiGraph(DiGraph):\n",
    "    '''\n",
    "    weighted directed graph\n",
    "    '''\n",
    "    def __init__(self):\n",
    "        super().__init__(0)\n",
    "    \n",
    "    \n",
    "    def __repr__(self):\n",
    "        \"\"\"\"\"\"\n",
    "        return 'weightedDiGraph()'\n",
    "    \n",
    "    @property\n",
    "    def graph_type(self):\n",
    "        return 'Weighted Directed Graph'\n",
    "    \n",
    "    def __getitem__(self, key):\n",
    "        return dict(self.adjacency[key])\n",
    "    \n",
    "    @property\n",
    "    def edges(self):\n",
    "        return list(self.edges_list.items())\n",
    "    \n",
    "    def adj(self):\n",
    "        return(dict(map(lambda x: (x[0], dict(x[1])), self.adjacency.items())))\n",
    "    \n",
    "    def add_edge(self, edge0, edge1, weight):\n",
    "        self.add_node(edge1)\n",
    "        self.adjacency[edge0][edge1] += weight\n",
    "        self.edges_list[(edge0, edge1)] += weight\n",
    "    \n",
    "    def union(self, another_weightedDiGraph):\n",
    "        for edge, weight in another_weightedDiGraph.edges:\n",
    "            self.add_edge(*edge, weight)\n",
    "\n",
    "        \n",
    "def search_timestamp(edges_list, time, mode):\n",
    "    \n",
    "    if mode == 'start':\n",
    "        if edges_list[0][2] >= time:\n",
    "            return(0)\n",
    "        elif edges_list[-1][2] < time:\n",
    "            raise ValueError('Start time too high in search_timestamp()')\n",
    "    elif mode == 'end':\n",
    "        if edges_list[0][2] > time:\n",
    "            raise ValueError('End time too low in search_timestamp()')\n",
    "        elif edges_list[-1][2] <= time:\n",
    "            return(len(edges_list))\n",
    "    else:\n",
    "        raise ValueError('Third argument in search_timestamp() must be either \"start\" or \"end\"')\n",
    "    \n",
    "    \n",
    "    start_idx = 0\n",
    "    end_idx = len(edges_list)\n",
    "    \n",
    "    while (end_idx - start_idx) > 1:\n",
    "        \n",
    "        middle_idx = (end_idx + start_idx)//2\n",
    "        \n",
    "        if edges_list[middle_idx][2] < time:\n",
    "            start_idx = middle_idx\n",
    "            \n",
    "        elif edges_list[middle_idx][2] > time:\n",
    "            end_idx = middle_idx\n",
    "            \n",
    "        else:\n",
    "            \n",
    "            if mode == 'start':\n",
    "                while (edges_list[middle_idx][2] == time):\n",
    "                    middle_idx -= 1\n",
    "                start_idx = middle_idx + 1\n",
    "                return(start_idx)\n",
    "            else:\n",
    "                while (edges_list[middle_idx][2] == time):\n",
    "                    middle_idx += 1\n",
    "                start_idx = middle_idx\n",
    "                return(start_idx)\n",
    "    \n",
    "    start_idx+=1\n",
    "    \n",
    "    return(start_idx)\n",
    "\n",
    "    \n",
    "class MultiDiGraph(DiGraph):\n",
    "    \n",
    "    def __init__(self):\n",
    "        super().__init__()\n",
    "    \n",
    "    def __repr__(self):\n",
    "        \"\"\"\"\"\"\n",
    "        return 'DiMultiGraph()'\n",
    "    \n",
    "    @property\n",
    "    def graph_type(self):\n",
    "        return 'Directed MultiGraph'\n",
    "    \n",
    "    def add_edge(self, edge0, edge1, timestamp):\n",
    "        self.adjacency[edge1]\n",
    "        self.adjacency[edge0][(edge1, timestamp)]\n",
    "        self.edges_list[(edge0, edge1, timestamp)]\n",
    "    \n",
    "    def get_graph(self, filename):\n",
    "        \"\"\"\n",
    "        builds the graph from an input file\n",
    "        \"\"\"\n",
    "        \n",
    "        with open(filename, 'r') as file:\n",
    "            for row in tqdm(file, total = 26000000):\n",
    "                row = row.strip().split()\n",
    "                start_node, end_node, timestamp = list(map(int, row))\n",
    "                timestamp = timestamp # we should round the timestamps HERE###############################################################\n",
    "                self.add_edge(start_node, end_node, timestamp)\n",
    "    \n",
    "    \n",
    "    def get_DiGraph_from_interval(self, start_time = None, end_time = None, weight = 1):\n",
    "        '''\n",
    "        builds a digraph that contains only the selected time interval\n",
    "        '''\n",
    "        \n",
    "        if start_time == None:\n",
    "            start_time = self.edges[0][2]\n",
    "        if end_time == None:\n",
    "            end_time = self.edges[-1][2]\n",
    "        \n",
    "        final_graph = weightedDiGraph()\n",
    "        start_edge = search_timestamp(self.edges, start_time, mode = 'start')  # returns the index of the smallest edge\n",
    "                                                                               # with a timestamp bigger or equal than start_time\n",
    "        \n",
    "        end_edge = search_timestamp(self.edges, end_time, mode = 'end')        # returns the index of the smallest edge\n",
    "                                                                               # with a timestamp smaller than end_time\n",
    "        \n",
    "        for edge in self.edges[start_edge : end_edge]:\n",
    "            final_graph.add_edge(*(edge[0:2]), weight)\n",
    "        \n",
    "        return(final_graph)\n",
    "    "
   ]
  },
  {
   "cell_type": "markdown",
   "id": "0d8e3b33-49b2-44e6-ae56-82b00fb3227c",
   "metadata": {},
   "source": [
    "Prova DiGraph()"
   ]
  },
  {
   "cell_type": "code",
   "execution_count": 99,
   "id": "7e383468-135a-434e-9177-58887dd57c76",
   "metadata": {},
   "outputs": [
    {
     "name": "stdout",
     "output_type": "stream",
     "text": [
      "Lista di adiacenza {}\n",
      "Nodi correnti []\n",
      "Lista di adiacenza {7: [], '7': [], 42: [], 'la risposta': []}\n",
      "Nodi correnti [7, '7', 42, 'la risposta']\n",
      "Lati correnti [(7, '7'), ('la risposta', 42), ('la risposta', 'culo')]\n",
      "Nodi correnti [7, '7', 42, 'la risposta', 'culo']\n",
      "Lista di adiacenza {7: ['7'], '7': [], 42: [], 'la risposta': [42, 'culo'], 'culo': []}\n",
      "Le risposte sono [42, 'culo']\n",
      "Questo grafo è un Directed Graph\n",
      "Ci sono 5 nodi e 3 lati\n",
      "Il numero medio di link è 0.6\n",
      "DiGraph()\n"
     ]
    }
   ],
   "source": [
    "prova = DiGraph()\n",
    "print('Lista di adiacenza', prova.adj())\n",
    "print('Nodi correnti', prova.nodes)\n",
    "prova.add_node(7)\n",
    "prova.add_node('7')\n",
    "prova.add_node(42)\n",
    "prova.add_node('la risposta')\n",
    "print('Lista di adiacenza', prova.adj())\n",
    "print('Nodi correnti', prova.nodes)\n",
    "prova.add_edge(7, '7')\n",
    "prova.add_edge(7, '7')\n",
    "prova.add_edge('la risposta', 42)\n",
    "prova.add_edge('la risposta', 'culo')\n",
    "print('Lati correnti', prova.edges)\n",
    "print('Nodi correnti', prova.nodes)\n",
    "print('Lista di adiacenza', prova.adj())\n",
    "print('Le risposte sono', prova['la risposta'])\n",
    "print('Questo grafo è un', prova.graph_type)\n",
    "print('Ci sono', prova.n_nodes, 'nodi e', prova.n_edges, 'lati')\n",
    "print('Il numero medio di link è', prova.get_average_links)\n",
    "print(prova)"
   ]
  },
  {
   "cell_type": "markdown",
   "id": "39d85bf6-c02d-40f4-9aa6-dd331a70a2bc",
   "metadata": {},
   "source": [
    "Prova WeightedDiGraph()"
   ]
  },
  {
   "cell_type": "code",
   "execution_count": 100,
   "id": "bf5dbc54-3f57-4987-8cf7-b9e9531d7809",
   "metadata": {},
   "outputs": [
    {
     "name": "stdout",
     "output_type": "stream",
     "text": [
      "Lista di adiacenza {}\n",
      "Nodi correnti []\n",
      "Lista di adiacenza {7: {}, '7': {}, 42: {}, 'la risposta': {}}\n",
      "Nodi correnti [7, '7', 42, 'la risposta']\n",
      "Lati correnti [((7, '7'), 4), (('la risposta', 42), 42), (('la risposta', 'culo'), 17)]\n",
      "Nodi correnti [7, '7', 42, 'la risposta', 'culo']\n",
      "Lista di adiacenza {7: {'7': 4}, '7': {}, 42: {}, 'la risposta': {42: 42, 'culo': 17}, 'culo': {}}\n",
      "Le risposte sono {42: 42, 'culo': 17}\n",
      "Questo grafo è un Weighted Directed Graph\n",
      "Ci sono 5 nodi e 3 lati\n",
      "Il numero medio di link è 0.6\n",
      "weightedDiGraph()\n"
     ]
    }
   ],
   "source": [
    "prova = weightedDiGraph()\n",
    "print('Lista di adiacenza', prova.adj())\n",
    "print('Nodi correnti', prova.nodes)\n",
    "prova.add_node(7)\n",
    "prova.add_node('7')\n",
    "prova.add_node(42)\n",
    "prova.add_node('la risposta')\n",
    "print('Lista di adiacenza', prova.adj())\n",
    "print('Nodi correnti', prova.nodes)\n",
    "prova.add_edge(7, '7', 1)\n",
    "prova.add_edge(7, '7', 3)\n",
    "prova.add_edge('la risposta', 42, 42)\n",
    "prova.add_edge('la risposta', 'culo', 17)\n",
    "print('Lati correnti', prova.edges)\n",
    "print('Nodi correnti', prova.nodes)\n",
    "print('Lista di adiacenza', prova.adj())\n",
    "print('Le risposte sono', prova['la risposta'])\n",
    "print('Questo grafo è un', prova.graph_type)\n",
    "print('Ci sono', prova.n_nodes, 'nodi e', prova.n_edges, 'lati')\n",
    "print('Il numero medio di link è', prova.get_average_links)\n",
    "print(prova)"
   ]
  },
  {
   "cell_type": "code",
   "execution_count": 101,
   "id": "ae87ecc3-fce3-422b-8a09-9eaf9a676032",
   "metadata": {},
   "outputs": [
    {
     "name": "stdout",
     "output_type": "stream",
     "text": [
      "Lati correnti [((84, '7'), 1), ((7, '7'), 92), (('le risposte', 42), 42), (('le risposte', 'culo'), 17), (('culo', 'la risposta'), 91)]\n",
      "Nodi correnti [84, '9', 173, 'le risposte', '7', 7, 42, 'culo', 'la risposta']\n",
      "Lista di adiacenza {84: {'7': 1}, '9': {}, 173: {}, 'le risposte': {42: 42, 'culo': 17}, '7': {}, 7: {'7': 92}, 42: {}, 'culo': {'la risposta': 91}, 'la risposta': {}}\n",
      "Le risposte sono {}\n",
      "Questo grafo è un Weighted Directed Graph\n",
      "Ci sono 9 nodi e 5 lati\n",
      "Il numero medio di link è 0.5555555555555556\n",
      "weightedDiGraph()\n"
     ]
    }
   ],
   "source": [
    "prova2 = weightedDiGraph()\n",
    "prova2.add_node(84)\n",
    "prova2.add_node('9')\n",
    "prova2.add_node(173)\n",
    "prova2.add_node('le risposte')\n",
    "prova2.add_edge(84, '7', 1)\n",
    "prova2.add_edge(7, '7', 92)\n",
    "prova2.add_edge('le risposte', 42, 42)\n",
    "prova2.add_edge('le risposte', 'culo', 17)\n",
    "prova2.add_edge('culo', 'la risposta', 91)\n",
    "print('Lati correnti', prova2.edges)\n",
    "print('Nodi correnti', prova2.nodes)\n",
    "print('Lista di adiacenza', prova2.adj())\n",
    "print('Le risposte sono', prova2['la risposta'])\n",
    "print('Questo grafo è un', prova2.graph_type)\n",
    "print('Ci sono', prova2.n_nodes, 'nodi e', prova2.n_edges, 'lati')\n",
    "print('Il numero medio di link è', prova2.get_average_links)\n",
    "print(prova2)"
   ]
  },
  {
   "cell_type": "code",
   "execution_count": 102,
   "id": "5fe7df9b-7a29-4b29-8085-91cf2c0b69d7",
   "metadata": {},
   "outputs": [
    {
     "name": "stdout",
     "output_type": "stream",
     "text": [
      "Lati correnti [((84, '7'), 1), ((7, '7'), 96), (('le risposte', 42), 42), (('le risposte', 'culo'), 17), (('culo', 'la risposta'), 91), (('la risposta', 42), 42), (('la risposta', 'culo'), 17)]\n",
      "Nodi correnti [84, '9', 173, 'le risposte', '7', 7, 42, 'culo', 'la risposta']\n",
      "Lista di adiacenza {84: {'7': 1}, '9': {}, 173: {}, 'le risposte': {42: 42, 'culo': 17}, '7': {}, 7: {'7': 96}, 42: {}, 'culo': {'la risposta': 91}, 'la risposta': {42: 42, 'culo': 17}}\n",
      "Le risposte sono {42: 42, 'culo': 17}\n",
      "Questo grafo è un Weighted Directed Graph\n",
      "Ci sono 9 nodi e 7 lati\n",
      "Il numero medio di link è 0.7777777777777778\n",
      "weightedDiGraph()\n"
     ]
    }
   ],
   "source": [
    "prova2.union(prova)\n",
    "print('Lati correnti', prova2.edges)\n",
    "print('Nodi correnti', prova2.nodes)\n",
    "print('Lista di adiacenza', prova2.adj())\n",
    "print('Le risposte sono', prova2['la risposta'])\n",
    "print('Questo grafo è un', prova2.graph_type)\n",
    "print('Ci sono', prova2.n_nodes, 'nodi e', prova2.n_edges, 'lati')\n",
    "print('Il numero medio di link è', prova2.get_average_links)\n",
    "print(prova2)"
   ]
  },
  {
   "cell_type": "markdown",
   "id": "a9eda3ae-671e-4267-ac4b-cd5e71926e43",
   "metadata": {},
   "source": [
    "Prova MultiDiGraph()"
   ]
  },
  {
   "cell_type": "code",
   "execution_count": 103,
   "id": "bfd4ddf2-5224-4dc0-9473-cc9558536a4f",
   "metadata": {},
   "outputs": [
    {
     "name": "stdout",
     "output_type": "stream",
     "text": [
      "Lista di adiacenza {}\n",
      "Nodi correnti []\n",
      "Lista di adiacenza {7: [], '7': [], 42: [], 'la risposta': []}\n",
      "Nodi correnti [7, '7', 42, 'la risposta']\n",
      "Lati correnti [(7, '7', 7), ('la risposta', 42, 42), ('la risposta', 'culo', 45), (7, '7', 98)]\n",
      "Nodi correnti [7, '7', 42, 'la risposta', 'culo']\n",
      "Lista di adiacenza {7: [('7', 7), ('7', 98)], '7': [], 42: [], 'la risposta': [(42, 42), ('culo', 45)], 'culo': []}\n",
      "Le risposte sono [(42, 42), ('culo', 45)]\n",
      "Questo grafo è un Directed MultiGraph\n",
      "Ci sono 5 nodi e 4 lati\n",
      "Il numero medio di link è 0.8\n",
      "DiMultiGraph()\n"
     ]
    }
   ],
   "source": [
    "prova = MultiDiGraph()\n",
    "print('Lista di adiacenza', prova.adj())\n",
    "print('Nodi correnti', prova.nodes)\n",
    "prova.add_node(7)\n",
    "prova.add_node('7')\n",
    "prova.add_node(42)\n",
    "prova.add_node('la risposta')\n",
    "print('Lista di adiacenza', prova.adj())\n",
    "print('Nodi correnti', prova.nodes)\n",
    "prova.add_edge(7, '7', 7)\n",
    "prova.add_edge('la risposta', 42, 42)\n",
    "prova.add_edge('la risposta', 'culo', 45)\n",
    "prova.add_edge(7, '7', 98)\n",
    "print('Lati correnti', prova.edges)\n",
    "print('Nodi correnti', prova.nodes)\n",
    "print('Lista di adiacenza', prova.adj())\n",
    "print('Le risposte sono', prova['la risposta'])\n",
    "print('Questo grafo è un', prova.graph_type)\n",
    "print('Ci sono', prova.n_nodes, 'nodi e', prova.n_edges, 'lati')\n",
    "print('Il numero medio di link è', prova.get_average_links)\n",
    "print(prova)"
   ]
  },
  {
   "cell_type": "code",
   "execution_count": 107,
   "id": "b52bf98b-8907-4660-9702-ff2f937846b7",
   "metadata": {},
   "outputs": [
    {
     "name": "stdout",
     "output_type": "stream",
     "text": [
      "{42: {}, 'la risposta': {42: 1, 'culo': 1}, 'culo': {}}\n",
      "[(('la risposta', 42), 1), (('la risposta', 'culo'), 1)]\n"
     ]
    }
   ],
   "source": [
    "wow = prova.get_DiGraph_from_interval(start_time = 41.1, end_time = 45, weight = 1)\n",
    "print(wow.adj())\n",
    "print(wow.edges)"
   ]
  },
  {
   "cell_type": "code",
   "execution_count": 116,
   "id": "5fd09093-1cba-4ce4-9284-59ded7d75309",
   "metadata": {},
   "outputs": [
    {
     "data": {
      "application/vnd.jupyter.widget-view+json": {
       "model_id": "6a9c5d22de794ad9b09b1fd162dfa107",
       "version_major": 2,
       "version_minor": 0
      },
      "text/plain": [
       "0it [00:00, ?it/s]"
      ]
     },
     "metadata": {},
     "output_type": "display_data"
    }
   ],
   "source": [
    "filename = 'data/sx-stackoverflow-a2q.txt'\n",
    "prova_dataset = MultiDiGraph()\n",
    "prova_dataset.get_graph(filename)\n",
    "woah1 = prova_dataset.get_DiGraph_from_interval(start_time = 1200000000, end_time = 1300000000, weight = 1)"
   ]
  },
  {
   "cell_type": "code",
   "execution_count": 117,
   "id": "221b7ac0-fba2-4332-a20d-944700250b4d",
   "metadata": {},
   "outputs": [
    {
     "data": {
      "application/vnd.jupyter.widget-view+json": {
       "model_id": "e8519c51934248158f6100323826bfec",
       "version_major": 2,
       "version_minor": 0
      },
      "text/plain": [
       "0it [00:00, ?it/s]"
      ]
     },
     "metadata": {},
     "output_type": "display_data"
    }
   ],
   "source": [
    "filename = 'data/sx-stackoverflow-c2a.txt'\n",
    "prova_dataset = MultiDiGraph()\n",
    "prova_dataset.get_graph(filename)\n",
    "woah2 = prova_dataset.get_DiGraph_from_interval(start_time = 1200000000, end_time = 1300000000, weight = 0.5)"
   ]
  },
  {
   "cell_type": "code",
   "execution_count": 118,
   "id": "9bc73ffa-db35-4b2f-bf1c-fbc62412c197",
   "metadata": {},
   "outputs": [],
   "source": [
    "woah1.union(woah2)"
   ]
  },
  {
   "cell_type": "code",
   "execution_count": null,
   "id": "eecfa2be-2888-4168-b098-003ad3d38bb0",
   "metadata": {},
   "outputs": [],
   "source": [
    "woah1.adj()"
   ]
  },
  {
   "cell_type": "code",
   "execution_count": null,
   "id": "2e3d3ecb-ca4c-470b-a28d-a2446a4ad678",
   "metadata": {},
   "outputs": [],
   "source": []
  }
 ],
 "metadata": {
  "kernelspec": {
   "display_name": "Python 3 (ipykernel)",
   "language": "python",
   "name": "python3"
  },
  "language_info": {
   "codemirror_mode": {
    "name": "ipython",
    "version": 3
   },
   "file_extension": ".py",
   "mimetype": "text/x-python",
   "name": "python",
   "nbconvert_exporter": "python",
   "pygments_lexer": "ipython3",
   "version": "3.8.12"
  }
 },
 "nbformat": 4,
 "nbformat_minor": 5
}
