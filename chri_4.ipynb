{
 "cells": [
  {
   "cell_type": "code",
   "execution_count": 1,
   "id": "2e5cc60f-6244-415e-993d-b4d5de137fb4",
   "metadata": {},
   "outputs": [],
   "source": [
    "import pandas as pd\n",
    "from collections import defaultdict\n",
    "from tqdm.notebook import tqdm\n",
    "import copy\n",
    "import networkx as nx\n",
    "import matplotlib.pyplot as plt"
   ]
  },
  {
   "cell_type": "code",
   "execution_count": 2,
   "id": "26eb38ed-3a4b-4dc2-971d-ed43988a7c6a",
   "metadata": {},
   "outputs": [],
   "source": [
    "class Queue():\n",
    "    '''\n",
    "    priority queue\n",
    "    '''\n",
    "    \n",
    "    def __init__(self, maxsize = 10**4):\n",
    "        \"\"\"\n",
    "        internally we save it as a simple list\n",
    "        and we keep track of the indices of the start and the end of the queue\n",
    "        \"\"\"\n",
    "        \n",
    "        self.size = maxsize + 1              # we keep the last element free to better manage the indices\n",
    "        self.basic_list = [0] * self.size    # this list will contain the actual queue\n",
    "        self.front = 0                       # the index of the front of the queue\n",
    "        self.back = 0                        # the index of the first free index of the queue\n",
    "    \n",
    "    def empty(self):\n",
    "        '''\n",
    "        check if the queue is empty\n",
    "        '''\n",
    "        return( self.front == self.back )\n",
    "    \n",
    "    @property\n",
    "    def occupied_space(self):\n",
    "        '''\n",
    "        returns the occupied space in the queue\n",
    "        '''\n",
    "        return((self.back - self.front)%self.size)\n",
    "    \n",
    "    @property\n",
    "    def remaining_space(self):\n",
    "        '''\n",
    "        returns the space remained in the queue\n",
    "        '''\n",
    "        return(self.size - 1 - self.occupied_space)\n",
    "    \n",
    "    def resize(self):\n",
    "        '''\n",
    "        resizes the queue\n",
    "        '''\n",
    "        # we double the size of the queue\n",
    "        maxsize = (self.size - 1) * 2\n",
    "        newsize = maxsize + 1\n",
    "        newlist = [0] * newsize\n",
    "        occupied_space = self.occupied_space\n",
    "        for i in range(occupied_space):\n",
    "            newlist[i] = self.get()\n",
    "        \n",
    "        self.size = newsize\n",
    "        self.basic_list = newlist\n",
    "        self.front = 0\n",
    "        self.back = occupied_space\n",
    "        \n",
    "        return\n",
    "    \n",
    "    def put(self, element):\n",
    "        '''\n",
    "        insert element at the end of the queue\n",
    "        '''\n",
    "        if self.remaining_space > 0:\n",
    "            self.basic_list[self.back] = element\n",
    "            self.back = (self.back + 1) % self.size\n",
    "        else:\n",
    "            self.resize()\n",
    "            self.put(element)\n",
    "    \n",
    "    def pick(self):\n",
    "        '''\n",
    "        return the first element of the queue\n",
    "        '''\n",
    "        if not self.empty():\n",
    "            return(self.basic_list[self.front])\n",
    "        else:\n",
    "            raise RuntimeError('Trying to get the first element of an empty queue')\n",
    "    \n",
    "    def get(self):\n",
    "        '''\n",
    "        return the first element of the queue and removes it\n",
    "        '''\n",
    "        if not self.empty():\n",
    "            front_element = self.basic_list[self.front]\n",
    "            self.front = (self.front + 1) % self.size\n",
    "            return(front_element)\n",
    "        else:\n",
    "            raise RuntimeError('Trying to dequeue from an empty queue')"
   ]
  },
  {
   "cell_type": "code",
   "execution_count": 127,
   "id": "cf6102db-32fa-40d5-918d-0b9651fb3fc5",
   "metadata": {},
   "outputs": [
    {
     "name": "stdout",
     "output_type": "stream",
     "text": [
      "True\n",
      "8\n",
      "8\n",
      "3 2\n",
      "8 2 ['culo', 42, 0, 0, 0, 0, 0, 0, 0, 0, 0]\n"
     ]
    }
   ],
   "source": [
    "q = Queue(5)\n",
    "print(q.empty())\n",
    "q.put(8)\n",
    "q.put('culo')\n",
    "print(q.pick())\n",
    "print(q.get())\n",
    "q.put(42)\n",
    "print(q.remaining_space, q.occupied_space)\n",
    "q.resize()\n",
    "print(q.remaining_space, q.occupied_space, q.basic_list)"
   ]
  },
  {
   "cell_type": "code",
   "execution_count": 3,
   "id": "a66704db-dfcc-4115-b836-d45a1afe781a",
   "metadata": {},
   "outputs": [],
   "source": [
    "# (global) weight parameters\n",
    "a2q_weight = 0.5\n",
    "c2a_weight = 0.2\n",
    "c2q_weight = 0.3\n",
    "\n",
    "# (global) datasets paths\n",
    "filename_a2q = 'data/sx-stackoverflow-a2q.txt'\n",
    "filename_c2a = 'data/sx-stackoverflow-c2a.txt'\n",
    "filename_c2q = 'data/sx-stackoverflow-c2q.txt'\n",
    "\n",
    "\n",
    "class DiGraph():\n",
    "    '''\n",
    "    basic directed graph\n",
    "    '''\n",
    "    \n",
    "    def __init__(self, default_attribute = None):\n",
    "        \"\"\"\n",
    "        internally we save it both as an adjacency list and as a list of edges\n",
    "        for convenience in computation\n",
    "        \"\"\"\n",
    "        \n",
    "        def default_None_dict():\n",
    "            return defaultdict(lambda : default_attribute)\n",
    "        \n",
    "        self.edges_list = defaultdict(lambda : default_attribute)\n",
    "        self.adjacency = defaultdict(default_None_dict)\n",
    "        self.distant_neighbours = defaultdict(default_None_dict)\n",
    "    \n",
    "    @property\n",
    "    def graph_type(self):\n",
    "        return 'Directed Graph'\n",
    "    \n",
    "    def __repr__(self):\n",
    "        \"\"\"\"\"\"\n",
    "        return 'DiGraph()'\n",
    "    \n",
    "    def __getitem__(self, key):\n",
    "        return list(self.adjacency[key].keys())\n",
    "    \n",
    "    def add_node(self, node):\n",
    "        self.adjacency[node]\n",
    "        self.distant_neighbours[node]\n",
    "    \n",
    "    @property\n",
    "    def nodes(self):\n",
    "        return list(self.adjacency.keys())\n",
    "    \n",
    "    @property\n",
    "    def edges(self):\n",
    "        return list(self.edges_list.keys())\n",
    "    \n",
    "    def adj(self):\n",
    "        return(dict(map(lambda x: (x[0], list(x[1].keys())), self.adjacency.items())))\n",
    "    \n",
    "    def add_edge(self, edge0, edge1):\n",
    "        self.add_node(edge1)\n",
    "        self.adjacency[edge0][edge1]\n",
    "        self.distant_neighbours[edge1][edge0]\n",
    "        self.edges_list[(edge0, edge1,)]\n",
    "    \n",
    "    @property\n",
    "    def n_nodes(self):\n",
    "        return len(self.adjacency)\n",
    "    \n",
    "    @property\n",
    "    def n_edges(self):\n",
    "        return len(self.edges_list)\n",
    "    \n",
    "    @property\n",
    "    def get_average_links(self):\n",
    "        return self.n_edges / self.n_nodes\n",
    "    \n",
    "    @property\n",
    "    def get_density(self):\n",
    "        possible_edges = self.n_nodes * (self.n_nodes - 1)\n",
    "        return self.n_edges / possible_edges\n",
    "    \n",
    "    @property\n",
    "    def isDense(self):\n",
    "        is_dense = self.get_density >= 0.5\n",
    "        return is_dense\n",
    "    \n",
    "    @property\n",
    "    def isSparse(self):\n",
    "        return (not self.isDense)\n",
    "    \n",
    "    def add_edges_from(self, iterable):\n",
    "        for edge in iterable:\n",
    "            self.add_edge(*edge)\n",
    "    \n",
    "    def to_nx(self):\n",
    "        DG = nx.DiGraph()\n",
    "        DG.add_edges_from(self.edges_list.keys())\n",
    "        return(DG)\n",
    "    \n",
    "    \n",
    "class weightedDiGraph(DiGraph):\n",
    "    '''\n",
    "    weighted directed graph\n",
    "    '''\n",
    "    def __init__(self):\n",
    "        super().__init__(0)\n",
    "    \n",
    "    \n",
    "    def __repr__(self):\n",
    "        \"\"\"\"\"\"\n",
    "        return 'weightedDiGraph()'\n",
    "    \n",
    "    @property\n",
    "    def graph_type(self):\n",
    "        return 'Weighted Directed Graph'\n",
    "    \n",
    "    def __getitem__(self, key):\n",
    "        return dict(self.adjacency[key])\n",
    "    \n",
    "    @property\n",
    "    def edges(self):\n",
    "        return list(self.edges_list.items())\n",
    "    \n",
    "    def adj(self):\n",
    "        return(dict(map(lambda x: (x[0], dict(x[1])), self.adjacency.items())))\n",
    "    \n",
    "    def add_edge(self, edge0, edge1, weight):\n",
    "        self.add_node(edge1)\n",
    "        self.adjacency[edge0][edge1] += weight\n",
    "        self.distant_neighbours[edge1][edge0] += weight\n",
    "        self.edges_list[(edge0, edge1)] += weight\n",
    "    \n",
    "    def union(self, another_weightedDiGraph):\n",
    "        for edge, weight in another_weightedDiGraph.edges:\n",
    "            self.add_edge(*edge, weight)\n",
    "    \n",
    "    def undirected_edges(self):\n",
    "        undirected_edges_list = set()\n",
    "        for a,b in self.edges_list.keys():\n",
    "            if (b,a) in self.edges_list.keys():\n",
    "                if not ((a,b) in undirected_edges_list or (b,a) in undirected_edges_list):\n",
    "                    undirected_edges_list.add((a,b))\n",
    "        \n",
    "        return(undirected_edges_list)\n",
    "    \n",
    "    def remove_edge(self, edge):\n",
    "        self.adjacency[edge[0]].pop(edge[1])\n",
    "        self.distant_neighbours[edge[1]].pop(edge[0])\n",
    "        return(self.edges_list.pop(edge))\n",
    "    \n",
    "    def remove_node(self, node):\n",
    "        for arrive in self.adjacency[node].keys():\n",
    "            self.edges_list.pop((node, arrive))\n",
    "            self.distant_neighbours[arrive].pop(node)\n",
    "        \n",
    "        for start in self.distant_neighbours[node].keys():\n",
    "            self.edges_list.pop((start, node))\n",
    "            self.adjacency[start].pop(node)\n",
    "        \n",
    "        self.distant_neighbours.pop(node)\n",
    "        self.adjacency.pop(node)\n",
    "    \n",
    "    def to_nx(self):\n",
    "        DG = nx.DiGraph()\n",
    "        DG.add_weighted_edges_from([(*edge,weight) for edge, weight in self.edges_list.items()])\n",
    "        return(DG)\n",
    "        \n",
    "        \n",
    "def search_timestamp(edges_list, time, mode):\n",
    "    \n",
    "    if mode == 'start':\n",
    "        if edges_list[0][2] >= time:\n",
    "            return(0)\n",
    "        elif edges_list[-1][2] < time:\n",
    "            raise ValueError('Start time too high in search_timestamp()')\n",
    "    elif mode == 'end':\n",
    "        if edges_list[0][2] > time:\n",
    "            raise ValueError('End time too low in search_timestamp()')\n",
    "        elif edges_list[-1][2] <= time:\n",
    "            return(len(edges_list))\n",
    "    else:\n",
    "        raise ValueError('Third argument in search_timestamp() must be either \"start\" or \"end\"')\n",
    "    \n",
    "    \n",
    "    start_idx = 0\n",
    "    end_idx = len(edges_list)\n",
    "    \n",
    "    while (end_idx - start_idx) > 1:\n",
    "        \n",
    "        middle_idx = (end_idx + start_idx)//2\n",
    "        \n",
    "        if edges_list[middle_idx][2] < time:\n",
    "            start_idx = middle_idx\n",
    "            \n",
    "        elif edges_list[middle_idx][2] > time:\n",
    "            end_idx = middle_idx\n",
    "            \n",
    "        else:\n",
    "            \n",
    "            if mode == 'start':\n",
    "                while (edges_list[middle_idx][2] == time):\n",
    "                    middle_idx -= 1\n",
    "                start_idx = middle_idx + 1\n",
    "                return(start_idx)\n",
    "            else:\n",
    "                while (edges_list[middle_idx][2] == time):\n",
    "                    middle_idx += 1\n",
    "                start_idx = middle_idx\n",
    "                return(start_idx)\n",
    "    \n",
    "    start_idx+=1\n",
    "    \n",
    "    return(start_idx)\n",
    "\n",
    "    \n",
    "class MultiDiGraph(DiGraph):\n",
    "    \n",
    "    def __init__(self):\n",
    "        super().__init__()\n",
    "    \n",
    "    def __repr__(self):\n",
    "        \"\"\"\"\"\"\n",
    "        return 'DiMultiGraph()'\n",
    "    \n",
    "    @property\n",
    "    def graph_type(self):\n",
    "        return 'Directed MultiGraph'\n",
    "    \n",
    "    def add_edge(self, edge0, edge1, timestamp):\n",
    "        self.adjacency[edge1]\n",
    "        self.adjacency[edge0][(edge1, timestamp)]\n",
    "        self.edges_list[(edge0, edge1, timestamp)]\n",
    "    \n",
    "    def get_graph(self, filename, start_time = 0, end_time = 3000000000):\n",
    "        \"\"\"\n",
    "        builds the graph from an input file\n",
    "        \"\"\"\n",
    "        \n",
    "        with open(filename, 'r') as file:\n",
    "            for row in tqdm(file, total = 26000000):\n",
    "                row = row.strip().split()\n",
    "                start_node, end_node, timestamp = list(map(int, row))\n",
    "                timestamp = timestamp # we should round the timestamps HERE###############################################################\n",
    "                if timestamp >= start_time and timestamp <= end_time:\n",
    "                    self.add_edge(start_node, end_node, timestamp)\n",
    "    \n",
    "    \n",
    "    def get_DiGraph_from_interval(self, start_time = None, end_time = None, weight = 1):\n",
    "        '''\n",
    "        builds a digraph that contains only the selected time interval\n",
    "        '''\n",
    "        \n",
    "        if start_time == None:\n",
    "            start_time = self.edges[0][2]\n",
    "        if end_time == None:\n",
    "            end_time = self.edges[-1][2]\n",
    "        \n",
    "        final_graph = weightedDiGraph()\n",
    "        start_edge = search_timestamp(self.edges, start_time, mode = 'start')  # returns the index of the smallest edge\n",
    "                                                                               # with a timestamp bigger or equal than start_time\n",
    "        \n",
    "        end_edge = search_timestamp(self.edges, end_time, mode = 'end')        # returns the index of the smallest edge\n",
    "                                                                               # with a timestamp smaller than end_time\n",
    "        \n",
    "        for edge in self.edges[start_edge : end_edge]:\n",
    "            final_graph.add_edge(*(edge[0:2]), weight)\n",
    "        \n",
    "        return(final_graph)\n",
    "    \n",
    "\n",
    "def get_total_graph(start_time = 0, end_time = 3000000000):  # time limits of our datasets\n",
    "    '''\n",
    "    # onestamente non mi veniva come farlo in termini di metodi\n",
    "    \n",
    "    This function takes in input an interval of time and returns the\n",
    "    \"total\" weighted digraph associated with this interval of time\n",
    "    '''\n",
    "    \n",
    "    # MAGARI QUI POTREMMO PRENDERE IN INPUT OGGETTI TIMESTAMP E CONVERTIRLI IN EPOCH TIME\n",
    "    \n",
    "    # the weight parameters\n",
    "    global a2q_weight\n",
    "    global c2a_weight\n",
    "    global c2q_weight\n",
    "    \n",
    "    # the datasets paths\n",
    "    global filename_a2q\n",
    "    global filename_c2a\n",
    "    global filename_c2q\n",
    "    \n",
    "    # retrieve the first dataset from the disk\n",
    "    print('retrieve the first dataset from the disk')\n",
    "    dataset_graph = MultiDiGraph()\n",
    "    dataset_graph.get_graph(filename_a2q, start_time = start_time, end_time = end_time)\n",
    "    \n",
    "    # select the time interval in the first dataset and build the weighted graph\n",
    "    print('select the time interval in the first dataset')\n",
    "    total_graph = dataset_graph.get_DiGraph_from_interval(start_time = start_time, end_time = end_time, weight = a2q_weight)\n",
    "    \n",
    "    # retrieve the second dataset from the disk\n",
    "    print('retrieve the second dataset from the disk')\n",
    "    dataset_graph = MultiDiGraph()\n",
    "    dataset_graph.get_graph(filename_c2a, start_time = start_time, end_time = end_time)\n",
    "    \n",
    "    # join the second and the first dataset\n",
    "    print('join the second and the first dataset')\n",
    "    total_graph.union(dataset_graph.get_DiGraph_from_interval(start_time = start_time, end_time = end_time, weight = c2a_weight))\n",
    "    \n",
    "    # retrieve the third dataset from the disk\n",
    "    print('retrieve the third dataset from the disk')\n",
    "    dataset_graph = MultiDiGraph()\n",
    "    dataset_graph.get_graph(filename_c2q, start_time = start_time, end_time = end_time)\n",
    "    \n",
    "    # join the third and the other two\n",
    "    print('join the third and the other two')\n",
    "    total_graph.union(dataset_graph.get_DiGraph_from_interval(start_time = start_time, end_time = end_time, weight = c2q_weight))\n",
    "    \n",
    "    return(total_graph)"
   ]
  },
  {
   "cell_type": "markdown",
   "id": "1037450d-aadd-4867-8975-0d2459dc0834",
   "metadata": {},
   "source": [
    "Prova DiGraph()"
   ]
  },
  {
   "cell_type": "code",
   "execution_count": 10,
   "id": "3c9193ce-a602-4823-85ff-81bc13e4828a",
   "metadata": {},
   "outputs": [
    {
     "name": "stdout",
     "output_type": "stream",
     "text": [
      "Lista di adiacenza {}\n",
      "Nodi correnti []\n",
      "Lista di adiacenza {7: [], '7': [], 42: [], 'la risposta': []}\n",
      "Nodi correnti [7, '7', 42, 'la risposta']\n",
      "Lati correnti [(7, '7'), ('la risposta', 42), ('la risposta', 'culo')]\n",
      "Nodi correnti [7, '7', 42, 'la risposta', 'culo']\n",
      "Lista di adiacenza {7: ['7'], '7': [], 42: [], 'la risposta': [42, 'culo'], 'culo': []}\n",
      "Le risposte sono [42, 'culo']\n",
      "Questo grafo è un Directed Graph\n",
      "Ci sono 5 nodi e 3 lati\n",
      "Il numero medio di link è 0.6\n",
      "DiGraph()\n"
     ]
    }
   ],
   "source": [
    "prova = DiGraph()\n",
    "print('Lista di adiacenza', prova.adj())\n",
    "print('Nodi correnti', prova.nodes)\n",
    "prova.add_node(7)\n",
    "prova.add_node('7')\n",
    "prova.add_node(42)\n",
    "prova.add_node('la risposta')\n",
    "print('Lista di adiacenza', prova.adj())\n",
    "print('Nodi correnti', prova.nodes)\n",
    "prova.add_edge(7, '7')\n",
    "prova.add_edge(7, '7')\n",
    "prova.add_edge('la risposta', 42)\n",
    "prova.add_edge('la risposta', 'culo')\n",
    "print('Lati correnti', prova.edges)\n",
    "print('Nodi correnti', prova.nodes)\n",
    "print('Lista di adiacenza', prova.adj())\n",
    "print('Le risposte sono', prova['la risposta'])\n",
    "print('Questo grafo è un', prova.graph_type)\n",
    "print('Ci sono', prova.n_nodes, 'nodi e', prova.n_edges, 'lati')\n",
    "print('Il numero medio di link è', prova.get_average_links)\n",
    "print(prova)"
   ]
  },
  {
   "cell_type": "markdown",
   "id": "e22c516a-6c9b-4752-bdbf-a8a1502a0c44",
   "metadata": {},
   "source": [
    "Prova WeightedDiGraph()"
   ]
  },
  {
   "cell_type": "code",
   "execution_count": 17,
   "id": "207318ce-e947-4c9f-8605-b69b6826b15b",
   "metadata": {},
   "outputs": [
    {
     "name": "stdout",
     "output_type": "stream",
     "text": [
      "Lista di adiacenza {}\n",
      "Nodi correnti []\n",
      "Lista di adiacenza {7: {}, '7': {}, 42: {}, 'la risposta': {}}\n",
      "Nodi correnti [7, '7', 42, 'la risposta']\n",
      "Lati correnti [((7, '7'), 4), (('la risposta', 42), 42), (('la risposta', 'culo'), 17)]\n",
      "Nodi correnti [7, '7', 42, 'la risposta', 'culo']\n",
      "Lista di adiacenza {7: {'7': 4}, '7': {}, 42: {}, 'la risposta': {42: 42, 'culo': 17}, 'culo': {}}\n",
      "Le risposte sono {42: 42, 'culo': 17}\n",
      "Questo grafo è un Weighted Directed Graph\n",
      "Ci sono 5 nodi e 3 lati\n",
      "Il numero medio di link è 0.6\n",
      "weightedDiGraph()\n"
     ]
    }
   ],
   "source": [
    "prova = weightedDiGraph()\n",
    "print('Lista di adiacenza', prova.adj())\n",
    "print('Nodi correnti', prova.nodes)\n",
    "prova.add_node(7)\n",
    "prova.add_node('7')\n",
    "prova.add_node(42)\n",
    "prova.add_node('la risposta')\n",
    "print('Lista di adiacenza', prova.adj())\n",
    "print('Nodi correnti', prova.nodes)\n",
    "prova.add_edge(7, '7', 1)\n",
    "prova.add_edge(7, '7', 3)\n",
    "prova.add_edge('la risposta', 42, 42)\n",
    "prova.add_edge('la risposta', 'culo', 17)\n",
    "print('Lati correnti', prova.edges)\n",
    "print('Nodi correnti', prova.nodes)\n",
    "print('Lista di adiacenza', prova.adj())\n",
    "print('Le risposte sono', prova['la risposta'])\n",
    "print('Questo grafo è un', prova.graph_type)\n",
    "print('Ci sono', prova.n_nodes, 'nodi e', prova.n_edges, 'lati')\n",
    "print('Il numero medio di link è', prova.get_average_links)\n",
    "print(prova)"
   ]
  },
  {
   "cell_type": "code",
   "execution_count": 5,
   "id": "a0ac41a0-734b-4164-8af4-2978a73082fe",
   "metadata": {},
   "outputs": [
    {
     "name": "stdout",
     "output_type": "stream",
     "text": [
      "Lati correnti [((84, '7'), 1), ((7, '7'), 92), (('le risposte', 42), 42), (('le risposte', 'culo'), 17), (('culo', 'la risposta'), 91)]\n",
      "Nodi correnti [84, '9', 173, 'le risposte', '7', 7, 42, 'culo', 'la risposta']\n",
      "Lista di adiacenza {84: {'7': 1}, '9': {}, 173: {}, 'le risposte': {42: 42, 'culo': 17}, '7': {}, 7: {'7': 92}, 42: {}, 'culo': {'la risposta': 91}, 'la risposta': {}}\n",
      "Le risposte sono {}\n",
      "Questo grafo è un Weighted Directed Graph\n",
      "Ci sono 9 nodi e 5 lati\n",
      "Il numero medio di link è 0.5555555555555556\n",
      "weightedDiGraph()\n"
     ]
    }
   ],
   "source": [
    "prova2 = weightedDiGraph()\n",
    "prova2.add_node(84)\n",
    "prova2.add_node('9')\n",
    "prova2.add_node(173)\n",
    "prova2.add_node('le risposte')\n",
    "prova2.add_edge(84, '7', 1)\n",
    "prova2.add_edge(7, '7', 92)\n",
    "prova2.add_edge('le risposte', 42, 42)\n",
    "prova2.add_edge('le risposte', 'culo', 17)\n",
    "prova2.add_edge('culo', 'la risposta', 91)\n",
    "print('Lati correnti', prova2.edges)\n",
    "print('Nodi correnti', prova2.nodes)\n",
    "print('Lista di adiacenza', prova2.adj())\n",
    "print('Le risposte sono', prova2['la risposta'])\n",
    "print('Questo grafo è un', prova2.graph_type)\n",
    "print('Ci sono', prova2.n_nodes, 'nodi e', prova2.n_edges, 'lati')\n",
    "print('Il numero medio di link è', prova2.get_average_links)\n",
    "print(prova2)"
   ]
  },
  {
   "cell_type": "code",
   "execution_count": 6,
   "id": "aeb0fd08-b3bc-43e0-81f5-761c190a478a",
   "metadata": {},
   "outputs": [
    {
     "name": "stdout",
     "output_type": "stream",
     "text": [
      "Lati correnti [((84, '7'), 1), ((7, '7'), 96), (('le risposte', 42), 42), (('le risposte', 'culo'), 17), (('culo', 'la risposta'), 91), (('la risposta', 42), 42), (('la risposta', 'culo'), 17)]\n",
      "Nodi correnti [84, '9', 173, 'le risposte', '7', 7, 42, 'culo', 'la risposta']\n",
      "Lista di adiacenza {84: {'7': 1}, '9': {}, 173: {}, 'le risposte': {42: 42, 'culo': 17}, '7': {}, 7: {'7': 96}, 42: {}, 'culo': {'la risposta': 91}, 'la risposta': {42: 42, 'culo': 17}}\n",
      "Le risposte sono {42: 42, 'culo': 17}\n",
      "Questo grafo è un Weighted Directed Graph\n",
      "Ci sono 9 nodi e 7 lati\n",
      "Il numero medio di link è 0.7777777777777778\n",
      "weightedDiGraph()\n"
     ]
    }
   ],
   "source": [
    "prova2.union(prova)\n",
    "print('Lati correnti', prova2.edges)\n",
    "print('Nodi correnti', prova2.nodes)\n",
    "print('Lista di adiacenza', prova2.adj())\n",
    "print('Le risposte sono', prova2['la risposta'])\n",
    "print('Questo grafo è un', prova2.graph_type)\n",
    "print('Ci sono', prova2.n_nodes, 'nodi e', prova2.n_edges, 'lati')\n",
    "print('Il numero medio di link è', prova2.get_average_links)\n",
    "print(prova2)"
   ]
  },
  {
   "cell_type": "markdown",
   "id": "0c5066d5-b717-4204-9af2-d6c33e015c45",
   "metadata": {},
   "source": [
    "Prova MultiDiGraph()"
   ]
  },
  {
   "cell_type": "code",
   "execution_count": 7,
   "id": "c4b0052c-6c7f-4c93-9b68-ffc48bd9c3e9",
   "metadata": {},
   "outputs": [
    {
     "name": "stdout",
     "output_type": "stream",
     "text": [
      "Lista di adiacenza {}\n",
      "Nodi correnti []\n",
      "Lista di adiacenza {7: [], '7': [], 42: [], 'la risposta': []}\n",
      "Nodi correnti [7, '7', 42, 'la risposta']\n",
      "Lati correnti [(7, '7', 7), ('la risposta', 42, 42), ('la risposta', 'culo', 45), (7, '7', 98)]\n",
      "Nodi correnti [7, '7', 42, 'la risposta', 'culo']\n",
      "Lista di adiacenza {7: [('7', 7), ('7', 98)], '7': [], 42: [], 'la risposta': [(42, 42), ('culo', 45)], 'culo': []}\n",
      "Le risposte sono [(42, 42), ('culo', 45)]\n",
      "Questo grafo è un Directed MultiGraph\n",
      "Ci sono 5 nodi e 4 lati\n",
      "Il numero medio di link è 0.8\n",
      "DiMultiGraph()\n"
     ]
    }
   ],
   "source": [
    "prova = MultiDiGraph()\n",
    "print('Lista di adiacenza', prova.adj())\n",
    "print('Nodi correnti', prova.nodes)\n",
    "prova.add_node(7)\n",
    "prova.add_node('7')\n",
    "prova.add_node(42)\n",
    "prova.add_node('la risposta')\n",
    "print('Lista di adiacenza', prova.adj())\n",
    "print('Nodi correnti', prova.nodes)\n",
    "prova.add_edge(7, '7', 7)\n",
    "prova.add_edge('la risposta', 42, 42)\n",
    "prova.add_edge('la risposta', 'culo', 45)\n",
    "prova.add_edge(7, '7', 98)\n",
    "print('Lati correnti', prova.edges)\n",
    "print('Nodi correnti', prova.nodes)\n",
    "print('Lista di adiacenza', prova.adj())\n",
    "print('Le risposte sono', prova['la risposta'])\n",
    "print('Questo grafo è un', prova.graph_type)\n",
    "print('Ci sono', prova.n_nodes, 'nodi e', prova.n_edges, 'lati')\n",
    "print('Il numero medio di link è', prova.get_average_links)\n",
    "print(prova)"
   ]
  },
  {
   "cell_type": "code",
   "execution_count": 107,
   "id": "1a8ac82b-e750-4938-9d6f-1cb3a262a234",
   "metadata": {},
   "outputs": [
    {
     "name": "stdout",
     "output_type": "stream",
     "text": [
      "{42: {}, 'la risposta': {42: 1, 'culo': 1}, 'culo': {}}\n",
      "[(('la risposta', 42), 1), (('la risposta', 'culo'), 1)]\n"
     ]
    }
   ],
   "source": [
    "wow = prova.get_DiGraph_from_interval(start_time = 41.1, end_time = 45, weight = 1)\n",
    "print(wow.adj())\n",
    "print(wow.edges)"
   ]
  },
  {
   "cell_type": "code",
   "execution_count": 116,
   "id": "6d024840-05ca-4b19-a5f7-31b2167f70ac",
   "metadata": {},
   "outputs": [
    {
     "data": {
      "application/vnd.jupyter.widget-view+json": {
       "model_id": "6a9c5d22de794ad9b09b1fd162dfa107",
       "version_major": 2,
       "version_minor": 0
      },
      "text/plain": [
       "0it [00:00, ?it/s]"
      ]
     },
     "metadata": {},
     "output_type": "display_data"
    }
   ],
   "source": [
    "filename = 'data/sx-stackoverflow-a2q.txt'\n",
    "prova_dataset = MultiDiGraph()\n",
    "prova_dataset.get_graph(filename)\n",
    "woah1 = prova_dataset.get_DiGraph_from_interval(start_time = 1200000000, end_time = 1300000000, weight = 1)"
   ]
  },
  {
   "cell_type": "code",
   "execution_count": 117,
   "id": "af749774-f02c-434d-825a-e14f0da306b1",
   "metadata": {},
   "outputs": [
    {
     "data": {
      "application/vnd.jupyter.widget-view+json": {
       "model_id": "e8519c51934248158f6100323826bfec",
       "version_major": 2,
       "version_minor": 0
      },
      "text/plain": [
       "0it [00:00, ?it/s]"
      ]
     },
     "metadata": {},
     "output_type": "display_data"
    }
   ],
   "source": [
    "filename = 'data/sx-stackoverflow-c2a.txt'\n",
    "prova_dataset = MultiDiGraph()\n",
    "prova_dataset.get_graph(filename)\n",
    "woah2 = prova_dataset.get_DiGraph_from_interval(start_time = 1200000000, end_time = 1300000000, weight = 0.5)"
   ]
  },
  {
   "cell_type": "code",
   "execution_count": 118,
   "id": "93c656e2-d7b7-498e-9782-8e13d39a2b3c",
   "metadata": {},
   "outputs": [],
   "source": [
    "woah1.union(woah2)"
   ]
  },
  {
   "cell_type": "code",
   "execution_count": 124,
   "id": "9febf861-0e83-4b6d-a33b-515042e7653f",
   "metadata": {},
   "outputs": [],
   "source": [
    "woah1.adj()"
   ]
  },
  {
   "cell_type": "markdown",
   "id": "580ea341-01b9-480f-958b-799cbceac8b4",
   "metadata": {},
   "source": [
    "Questa è per prendere il grafone unito"
   ]
  },
  {
   "cell_type": "code",
   "execution_count": 7,
   "id": "923ac2d0-f713-473a-b01a-d7512f46c77c",
   "metadata": {},
   "outputs": [
    {
     "name": "stdout",
     "output_type": "stream",
     "text": [
      "retrieve the first dataset from the disk\n"
     ]
    },
    {
     "data": {
      "application/vnd.jupyter.widget-view+json": {
       "model_id": "39666c87091c40e3a75dc256126fba95",
       "version_major": 2,
       "version_minor": 0
      },
      "text/plain": [
       "  0%|          | 0/26000000 [00:00<?, ?it/s]"
      ]
     },
     "metadata": {},
     "output_type": "display_data"
    },
    {
     "name": "stdout",
     "output_type": "stream",
     "text": [
      "select the time interval in the first dataset\n",
      "retrieve the second dataset from the disk\n"
     ]
    },
    {
     "data": {
      "application/vnd.jupyter.widget-view+json": {
       "model_id": "dab7daa5caf8484eb18e0807f154025a",
       "version_major": 2,
       "version_minor": 0
      },
      "text/plain": [
       "  0%|          | 0/26000000 [00:00<?, ?it/s]"
      ]
     },
     "metadata": {},
     "output_type": "display_data"
    },
    {
     "name": "stdout",
     "output_type": "stream",
     "text": [
      "join the second and the first dataset\n",
      "retrieve the third dataset from the disk\n"
     ]
    },
    {
     "data": {
      "application/vnd.jupyter.widget-view+json": {
       "model_id": "ebbe1304268b4df2b52614768b5f220d",
       "version_major": 2,
       "version_minor": 0
      },
      "text/plain": [
       "  0%|          | 0/26000000 [00:00<?, ?it/s]"
      ]
     },
     "metadata": {},
     "output_type": "display_data"
    },
    {
     "name": "stdout",
     "output_type": "stream",
     "text": [
      "join the third and the other two\n"
     ]
    }
   ],
   "source": [
    "# la barra di avanzamento ha un totale sbagliato,\n",
    "# ci ho messo il numero più grande che poteva raggiungere tanto per avere un upper bound\n",
    "# quindi è normale che si fermi prima del 100%\n",
    "# è un po' poco estetico, magari poi la leviamo\n",
    "\n",
    "# c'è una barra per ogni volta che si va a leggere il dataset dal disco\n",
    "# tra le varie barre di caricamento seleziona l'intervallo di tempo e unisce i grafi\n",
    "# ci mette più di quel che pensassi...\n",
    "total_graph = get_total_graph(start_time = 1300050000, end_time = 1300060000)"
   ]
  },
  {
   "cell_type": "code",
   "execution_count": null,
   "id": "c1887449-4e6f-471a-ae81-f2dc087a4683",
   "metadata": {},
   "outputs": [],
   "source": [
    "total_graph.adj()"
   ]
  },
  {
   "cell_type": "code",
   "execution_count": null,
   "id": "3b1f19c7-10e2-4930-90cf-fcb9d0d1a2f6",
   "metadata": {},
   "outputs": [],
   "source": []
  },
  {
   "cell_type": "markdown",
   "id": "0d8a7b7b-cb03-4efa-a249-48d5db663a2f",
   "metadata": {},
   "source": [
    "# Functionality 4"
   ]
  },
  {
   "cell_type": "markdown",
   "id": "225d53b0-f57f-4bc9-b499-8adfdc6fd90f",
   "metadata": {},
   "source": [
    "To solve this problem, we will going to use graph flow theory. We based our implementation and the considerations on the book \"Introduction to Algorithms\" by Cormen, Leiserson, Rivest, and Stein; the details and the proofs about our statement can be found there.\n",
    "\n",
    "Given a directed weighted graph, we want to disconnect two users from each other cutting the minimum number of edges (with their weight). We will start by considering simpler cases, and we will implement an heuristic for the most general case. Before proceeding we want to make a remark: in a directed graph the statement \"user A is disconnected from user B\" means that there is no directed path from A to B, this implies that the fact that user A is disconnected from user B is independent of the fact that user B is disconnected from user A; our goal is to disconnect both A from B and B from A at the same time, while keeping a minimum cut on all the edges. We consider:\n",
    "1. The problem of disconnecting a \"source\" node from a \"sink\" node while keeping a minimum cut on the edges\n",
    "2. The problem of disconnecting a node A from a node B in a directed graph while keeping a minimum cut on the edges\n",
    "3. The problem of disconnecting both a node A from a node B and node B from a node A in a directed acyclical graph while keeping a minimum cut on the edges\n",
    "4. The general problem of disconnecting both a node A from a node B and node B from a node A in a directed graph while keeping a minimum cut on the edges\n",
    "\n",
    "### 1.\n",
    "The first problem in the list is easy: the max-flow min-cut theorem states that the maximum amount of flow passing from the source to the sink is equal to the total weight of the edges in the minimum cut, so, leveraging the Ford-Fulkerson method for finding the maximum flow, we can then look for the \"saturated\" edges (in the condition of maximum flow) that are reached first from the source and remove them; and this corresponds to a minimum cut.\n",
    "\n",
    "### 2.\n",
    "This problem is analogous to the previous one: we just miss a \"source\" node and a \"sink\" node. To solve the problem we add a source node with an edge that points to A and a large weight (virtually infinite, but every large number will be fine: we just need to be sure that it does not saturates), and a sink node with an edge that point from B to the sink and a large weight (as before). This newly obtained graph can be analyzed using the previous method, and the solution will be equivalent to the starting graph.\n",
    "\n",
    "### 3.\n",
    "We now want to disconnect both A from B and B from A, the procedure seems straightforward: disconnect A from B and B from A by applying the previous method and then join the result to get the minimum cut, this, however, may not give the optimal solution; here we give a simple example."
   ]
  },
  {
   "cell_type": "code",
   "execution_count": 47,
   "id": "45597e71-3b21-45b2-888c-7cda0a8777c0",
   "metadata": {
    "jupyter": {
     "source_hidden": true
    },
    "tags": []
   },
   "outputs": [
    {
     "data": {
      "image/png": "[encoded data removed]",
      "text/plain": [
       "<Figure size 1440x360 with 3 Axes>"
      ]
     },
     "metadata": {},
     "output_type": "display_data"
    }
   ],
   "source": [
    "plt.figure(figsize = (20,5))\n",
    "DG = nx.DiGraph()\n",
    "DG.add_node('A',pos=(1,0))\n",
    "DG.add_node('C',pos=(2,-1))\n",
    "DG.add_node('D',pos=(2,1))\n",
    "DG.add_node('B',pos=(3,0))\n",
    "DG.add_weighted_edges_from([('A','C',1), ('C','D',1.5), ('D','A',3), ('D','B',3), ('B','C',1)])\n",
    "\n",
    "pos_attrs = {'s':(0,0.2), 'S': (4,0.2)}\n",
    "custom_node_attrs = {'s': 'Source', 'S': 'Sink'}\n",
    "\n",
    "subax1 = plt.subplot(131)\n",
    "pos=nx.get_node_attributes(DG,'pos')\n",
    "nx.draw(DG,pos, with_labels = True)\n",
    "nx.draw_networkx_labels(DG, pos_attrs, labels=custom_node_attrs)\n",
    "labels = nx.get_edge_attributes(DG,'weight')\n",
    "nx.draw_networkx_edge_labels(DG,pos,edge_labels=labels)\n",
    "\n",
    "\n",
    "DG2 = nx.DiGraph()\n",
    "DG2.add_node('A',pos=(1,0))\n",
    "DG2.add_node('C',pos=(2,-1))\n",
    "DG2.add_node('D',pos=(2,1))\n",
    "DG2.add_node('B',pos=(3,0))\n",
    "DG2.add_node('S',pos=(4,0))\n",
    "DG2.add_node('s',pos=(0,0))\n",
    "DG2.add_weighted_edges_from([('s', 'A', 10), ('B', 'S', 10), ('A','C',1), ('C','D',1.5), ('D','A',3), ('D','B',3), ('B','C',1)])\n",
    "\n",
    "pos_attrs = {'s':(0,0.2), 'S': (4,0.2)}\n",
    "custom_node_attrs = {'s': 'Source', 'S': 'Sink'}\n",
    "\n",
    "subax2 = plt.subplot(132)\n",
    "pos=nx.get_node_attributes(DG2,'pos')\n",
    "nx.draw(DG2,pos, with_labels = True)\n",
    "nx.draw_networkx_labels(DG2, pos_attrs, labels=custom_node_attrs)\n",
    "labels = nx.get_edge_attributes(DG2,'weight')\n",
    "nx.draw_networkx_edge_labels(DG2,pos,edge_labels=labels)\n",
    "\n",
    "DG3 = nx.DiGraph()\n",
    "DG3.add_node('A',pos=(1,0))\n",
    "DG3.add_node('C',pos=(2,-1))\n",
    "DG3.add_node('D',pos=(2,1))\n",
    "DG3.add_node('B',pos=(3,0))\n",
    "DG3.add_node('s',pos=(4,0))\n",
    "DG3.add_node('S',pos=(0,0))\n",
    "DG3.add_weighted_edges_from([('A', 'S', 10), ('s', 'B', 10), ('A','C',1), ('C','D',1.5), ('D','A',3), ('D','B',3), ('B','C',1)])\n",
    "\n",
    "pos_attrs = {'S':(0,0.2), 's': (4,0.2)}\n",
    "custom_node_attrs = {'s': 'Source', 'S': 'Sink'}\n",
    "\n",
    "subax3 = plt.subplot(133)\n",
    "pos=nx.get_node_attributes(DG3,'pos')\n",
    "nx.draw(DG3,pos, with_labels = True)\n",
    "nx.draw_networkx_labels(DG3, pos_attrs, labels=custom_node_attrs)\n",
    "labels = nx.get_edge_attributes(DG3,'weight')\n",
    "nx.draw_networkx_edge_labels(DG3,pos,edge_labels=labels)\n",
    "\n",
    "plt.show()"
   ]
  },
  {
   "cell_type": "markdown",
   "id": "c4ab311f-2daf-4536-b328-96653e131c8a",
   "metadata": {
    "tags": []
   },
   "source": [
    "In this case, applying the Ford Fulkerson method to the first graph means applying it to the second and to the third, and then joining the result. In the second graph the optimal solution is removing the edge from A to C, while in the second is the edge from B to C. So removing this two edges from the original graph would disconnect A and B with a total cost of of 2, but the optimal solution would be removing just the edge from C to D (with a total cost of 1.5). The problem here is that exists two paths (one from A to B and the other from B to A) that have a common edge, which is equivalent to the existence of two distinct cycles (one that contains A and not B, and another that contains B and not A) that have a common edge. So this last case would be our exact hypotesis; in this framework, as said before, to find the optimal solution we can just apply the Ford Fulkerson method twice and join the solutions.\n",
    "\n",
    "### 4.\n",
    "We did not manage to find an algorithm to solve the general problem and that does not involve checking all the possible combinations of cuts. For this reason, we provide a couple of heuristics:\n",
    "* upon starting the algorithm we search for all the possible couple of cycles containing A and B, we intersect each possible pairs and collect a set of edges, we remove the one with the lighter weight, and then we repeat until there are no common edges left. At this point we can proceed as described in the previous case.\n",
    "* following the idea of the flow network, we imagine two distinct type of flow (with two sources and two sinks) that run in the same pipes, one from A to B and the other from B to A; we can try to maximize this flow by splitting the residual capacity of a common augmenting path between the two flows. This method however may depend  on the actual order in which we find the augmenting paths, and may not bring to the optimal solution. Moreover, it is easy to see that in this case the saturated paths are not necessarily those of a minimum cut.\n",
    "* joining the last two methods, one may try to remove a saturated edge (as found with the previous method) if it is part of a common cycle (as above), and then repeating until no cycles remains.\n",
    "* another possibility could be halving the capacity of the edges in the common cycles, and running the algorithm as if there were no common edges. At this point one could remove the common edges if they are saturated and then repeat the algorithm to find the cut. One may want to study more in detail the problem.\n",
    "* our last proposal is just to ignore the problem of the cycles and proceed with the algorithm of the previous case.\n",
    "\n",
    "These are all simple heuristic, and we can easily see some of them fail; we did not feel like neither spending more time on it, nor adding another layer of complexity to the algorithm, so we decided to go for this last choice. Since the graph will be pretty big, we hope that there won't be many common cycle edges that can give problems to our optimal solution. Moreover, specifically to not add complexity to the algorithm, we decided to implement the Edmonds-Karp version of the Ford Fulkerson method for finding the maximum flow, instead of a faster Push Relabel or Push to Front algorithms."
   ]
  },
  {
   "cell_type": "code",
   "execution_count": 4,
   "id": "26000db2-d9b6-4a8f-9c3a-b9102290cb57",
   "metadata": {},
   "outputs": [],
   "source": [
    "def functionality4(interval1, interval2, user1, user2):\n",
    "    \n",
    "    total_graph = get_total_graph(*interval1)\n",
    "    total_graph.union(get_total_graph(*interval2))\n",
    "    \n",
    "    \n",
    "    graph = copy.deepcopy(total_graph)\n",
    "    edges = find_min_cut(graph, user1, user2)\n",
    "    \n",
    "    \n",
    "    total_cost = 0\n",
    "    for edge in edges:\n",
    "        total_cost += total_graph.edges_list[edge]\n",
    "    \n",
    "    return total_cost, edges\n",
    "\n",
    "def find_min_cut(graph, user1, user2):\n",
    "    \n",
    "    # we transform the graph to remove\n",
    "    # the antiparallel edges as a first step to simplify the algorithm\n",
    "    # and we remove the edge that connects a user to himself\n",
    "    # (as they will not be relevant for the analysis of the flow)\n",
    "    antiparallel = graph.undirected_edges()\n",
    "    removed_edges = {}\n",
    "    \n",
    "    new_node = 0\n",
    "    for a,b in antiparallel:\n",
    "        weight = graph.remove_edge((a,b))\n",
    "        \n",
    "        if a != b:\n",
    "            new_node -= 1\n",
    "            removed_edges[new_node] = (a,b)\n",
    "            \n",
    "            graph.add_edge(a,new_node,weight)\n",
    "            graph.add_edge(new_node,b,weight)\n",
    "    \n",
    "    \n",
    "    cut_1_to_2 = find_min_cut_A_to_B(graph, user1, user2)\n",
    "    cut_2_to_1 = find_min_cut_A_to_B(graph, user2, user1)\n",
    "    \n",
    "    total_edges = set.union(cut_1_to_2, cut_2_to_1)\n",
    "    \n",
    "    \n",
    "    transformed_edges = set()\n",
    "    for a,b in total_edges:\n",
    "        if a < 0 or b < 0:\n",
    "            new_node = min(a,b)\n",
    "            transformed_edges.add(removed_edges[new_node])\n",
    "        else:\n",
    "            transformed_edges.add((a,b))\n",
    "        \n",
    "    return(transformed_edges)\n",
    "\n",
    "def find_min_cut_A_to_B(graph, user1, user2):\n",
    "    \n",
    "    # the weight of the edge from the source to user1 will be\n",
    "    # greater than the sum of all the outgoing weights from user1\n",
    "    source_weight = 1\n",
    "    for weight in graph.adjacency[user1].values():\n",
    "        source_weight += weight\n",
    "    graph.add_edge('source', user1, source_weight)\n",
    "    \n",
    "    # it is sufficient to have sink_weight == source_weight for these\n",
    "    # nodes to not influence the outcome of the algorithm\n",
    "    sink_weight = source_weight\n",
    "    graph.add_edge(user2, 'sink', sink_weight)\n",
    "    \n",
    "    flow = find_max_flow(graph)\n",
    "    \n",
    "    selected_edges = find_min_cut_edges(graph, flow, source = 'source', sink = 'sink')\n",
    "    \n",
    "    \n",
    "    graph.remove_node('source')\n",
    "    graph.remove_node('sink')\n",
    "    \n",
    "    return(selected_edges)\n",
    "\n",
    "def find_max_flow(graph, source = 'source', sink = 'sink'):\n",
    "    flow_dict = defaultdict(lambda : 0)\n",
    "    \n",
    "    found_path = True\n",
    "    \n",
    "    while found_path:\n",
    "        previous = search_augmenting_path(graph, flow_dict, source = source, sink = sink)\n",
    "        \n",
    "        if sink not in previous.keys():\n",
    "            found_path = False\n",
    "        \n",
    "        if found_path:\n",
    "            increase_flow(graph, flow = flow_dict, path = previous, source = source, sink = sink)\n",
    "    \n",
    "    return (flow_dict)\n",
    "\n",
    "def search_augmenting_path(graph, flow, source, sink):\n",
    "    previous = {}\n",
    "    \n",
    "    residual_graph = weightedDiGraph()\n",
    "    \n",
    "    q = Queue()\n",
    "    q.put(source)\n",
    "    \n",
    "    \n",
    "    while not q.empty():\n",
    "        current_node = q.get()\n",
    "        build_residual_graph(graph, residual_graph, current_node, flow)\n",
    "        \n",
    "        for node, capacity in residual_graph.adjacency[current_node].items():\n",
    "            if node not in previous.keys():\n",
    "                previous[node] = {'previous' : current_node, 'capacity' : capacity}\n",
    "                q.put(node)\n",
    "            \n",
    "            if node == sink:\n",
    "                break\n",
    "    \n",
    "    return(previous)\n",
    "\n",
    "def build_residual_graph(graph, residual_graph, current_node, flow):\n",
    "    '''\n",
    "    builds the residual graph around the input node\n",
    "    '''\n",
    "    \n",
    "    for node, weight in graph.adjacency[current_node].items():\n",
    "        capacity = weight - flow[(current_node, node)]\n",
    "        if capacity > 0:\n",
    "            residual_graph.add_edge(current_node, node, capacity)\n",
    "        \n",
    "    for node, weight in graph.distant_neighbours[current_node].items():\n",
    "        capacity = flow[(node, current_node)]\n",
    "        if capacity > 0:\n",
    "            residual_graph.add_edge(node, current_node, capacity)\n",
    "    \n",
    "    return\n",
    "    \n",
    "def increase_flow(graph, flow, path, source, sink):\n",
    "    \n",
    "    prev_node = path[sink]['previous']\n",
    "    min_capacity = path[sink]['capacity']\n",
    "    \n",
    "    path_edges = [(prev_node, sink)]\n",
    "    while prev_node != source:\n",
    "        current_node = prev_node\n",
    "        prev_node = path[prev_node]['previous']\n",
    "        \n",
    "        path_edges.append((prev_node, current_node))\n",
    "        \n",
    "        if path[current_node]['capacity'] < min_capacity:\n",
    "            min_capacity = path[current_node]['capacity']\n",
    "            \n",
    "    for edge in path_edges:\n",
    "        reverse_edge = (edge[1], edge[0])\n",
    "        \n",
    "        if edge in graph.edges_list.keys():\n",
    "            flow[edge] += min_capacity\n",
    "            if reverse_edge in graph.edges_list.keys():\n",
    "                flow[reverse_edge] -= min_capacity\n",
    "        else:\n",
    "            flow[edge] -= min_capacity\n",
    "            if reverse_edge in graph.edges_list.keys():\n",
    "                flow[reverse_edge] += min_capacity\n",
    "    \n",
    "    return\n",
    "\n",
    "def find_min_cut_edges(graph, flow, source, sink):\n",
    "\n",
    "    visited = defaultdict(lambda : 0)\n",
    "    residual_graph = weightedDiGraph()\n",
    "    \n",
    "    q = Queue()\n",
    "    q.put(source)\n",
    "    visited[source] = 1\n",
    "    \n",
    "    while not q.empty():\n",
    "        current_node = q.get()\n",
    "        build_residual_graph(graph, residual_graph, current_node, flow)\n",
    "        for node in residual_graph.adjacency[current_node].keys():\n",
    "            if node not in visited.keys():\n",
    "                q.put(node)\n",
    "                visited[node] = 1\n",
    "    \n",
    "    \n",
    "    selected_edges = set()\n",
    "    for a,b in graph.edges_list.keys():\n",
    "        if visited[a] ==1 and visited[b] == 0:\n",
    "            selected_edges.add((a,b))\n",
    "    \n",
    "    return(selected_edges)"
   ]
  },
  {
   "cell_type": "code",
   "execution_count": 5,
   "id": "c0d3d454-6029-42ab-b822-eade380ecef9",
   "metadata": {},
   "outputs": [],
   "source": [
    "DG = weightedDiGraph()\n",
    "DG.add_node(0)\n",
    "DG.add_node(1)\n",
    "DG.add_node(2)\n",
    "DG.add_node(3)\n",
    "DG.add_edges_from([(0,2,1), (2,3,1.5), (3,0,3), (3,1,3), (1,2,1)])\n",
    "\n",
    "edges = find_min_cut(DG, 0, 1)"
   ]
  },
  {
   "cell_type": "code",
   "execution_count": 6,
   "id": "150c2b58-cb55-40fd-a4f7-002b8f2cf100",
   "metadata": {},
   "outputs": [
    {
     "data": {
      "text/plain": [
       "{(0, 2), (1, 2)}"
      ]
     },
     "execution_count": 6,
     "metadata": {},
     "output_type": "execute_result"
    }
   ],
   "source": [
    "edges"
   ]
  },
  {
   "cell_type": "code",
   "execution_count": 7,
   "id": "bc281d37-0158-424c-81ce-6fad83582ff6",
   "metadata": {},
   "outputs": [
    {
     "name": "stdout",
     "output_type": "stream",
     "text": [
      "retrieve the first dataset from the disk\n"
     ]
    },
    {
     "data": {
      "application/vnd.jupyter.widget-view+json": {
       "model_id": "a840b3f9102f48d9921b2818d0390a20",
       "version_major": 2,
       "version_minor": 0
      },
      "text/plain": [
       "  0%|          | 0/26000000 [00:00<?, ?it/s]"
      ]
     },
     "metadata": {},
     "output_type": "display_data"
    },
    {
     "name": "stdout",
     "output_type": "stream",
     "text": [
      "select the time interval in the first dataset\n",
      "retrieve the second dataset from the disk\n"
     ]
    },
    {
     "data": {
      "application/vnd.jupyter.widget-view+json": {
       "model_id": "0134deebe516452187ddd8bf67b50565",
       "version_major": 2,
       "version_minor": 0
      },
      "text/plain": [
       "  0%|          | 0/26000000 [00:00<?, ?it/s]"
      ]
     },
     "metadata": {},
     "output_type": "display_data"
    },
    {
     "name": "stdout",
     "output_type": "stream",
     "text": [
      "join the second and the first dataset\n",
      "retrieve the third dataset from the disk\n"
     ]
    },
    {
     "data": {
      "application/vnd.jupyter.widget-view+json": {
       "model_id": "23be900b329c4f4e8f36e449ca84e6d9",
       "version_major": 2,
       "version_minor": 0
      },
      "text/plain": [
       "  0%|          | 0/26000000 [00:00<?, ?it/s]"
      ]
     },
     "metadata": {},
     "output_type": "display_data"
    },
    {
     "name": "stdout",
     "output_type": "stream",
     "text": [
      "join the third and the other two\n"
     ]
    }
   ],
   "source": [
    "total_graph = get_total_graph(start_time = 1300050000, end_time = 1300060000)"
   ]
  },
  {
   "cell_type": "code",
   "execution_count": null,
   "id": "bcee4650-74b9-4db6-9333-0df366069eb7",
   "metadata": {},
   "outputs": [],
   "source": [
    "total_graph.nodes"
   ]
  },
  {
   "cell_type": "code",
   "execution_count": 8,
   "id": "0037d71f-5110-413d-953b-924c4c64849e",
   "metadata": {},
   "outputs": [
    {
     "name": "stdout",
     "output_type": "stream",
     "text": [
      "total cost 1.1\n"
     ]
    }
   ],
   "source": [
    "user1 = 413337\n",
    "user2 = 436721\n",
    "\n",
    "graph = copy.deepcopy(total_graph)\n",
    "edges = find_min_cut(graph, user1, user2)\n",
    "    \n",
    "    \n",
    "total_cost = 0\n",
    "for edge in edges:\n",
    "    total_cost += total_graph.edges_list[edge]\n",
    "print('total cost', total_cost)"
   ]
  },
  {
   "cell_type": "code",
   "execution_count": 9,
   "id": "6053eace-dec0-42fb-8925-96a9c6d1aeff",
   "metadata": {},
   "outputs": [
    {
     "data": {
      "text/plain": [
       "{(413337, 436721), (436721, 413337)}"
      ]
     },
     "execution_count": 9,
     "metadata": {},
     "output_type": "execute_result"
    }
   ],
   "source": [
    "edges"
   ]
  },
  {
   "cell_type": "code",
   "execution_count": 69,
   "id": "b599b711-0210-47b0-82a1-24201d1946f0",
   "metadata": {},
   "outputs": [],
   "source": [
    "DG = weightedDiGraph()\n",
    "DG.add_node(0)\n",
    "DG.add_node(1)\n",
    "DG.add_node(2)\n",
    "DG.add_node(3)\n",
    "DG.add_edges_from([(0,2,1), (2,3,1.5), (3,0,3), (3,1,3), (1,2,1)])\n",
    "\n",
    "boh = DG.to_nx()"
   ]
  },
  {
   "cell_type": "code",
   "execution_count": 39,
   "id": "5eec6b83-e344-4145-8d8e-2c8ff17e7ab5",
   "metadata": {},
   "outputs": [],
   "source": [
    "boh = total_graph.to_nx()"
   ]
  },
  {
   "cell_type": "code",
   "execution_count": 70,
   "id": "36549c60-dc7a-4d87-98f7-aac9295bade2",
   "metadata": {},
   "outputs": [
    {
     "data": {
      "image/png": "[encoded data removed]",
      "text/plain": [
       "<Figure size 1440x720 with 1 Axes>"
      ]
     },
     "metadata": {},
     "output_type": "display_data"
    }
   ],
   "source": [
    "plt.figure(figsize = (20,10))\n",
    "pos = nx.spring_layout(boh)\n",
    "\n",
    "nx.draw(boh, pos, with_labels = True)\n",
    "\n",
    "labels = nx.get_edge_attributes(boh,'weight')\n",
    "#nx.draw_networkx_edge_labels(boh,pos,edge_labels=labels)\n",
    "plt.show()"
   ]
  },
  {
   "cell_type": "code",
   "execution_count": 18,
   "id": "a8a392e3-a6e5-4d50-8666-7575942bc052",
   "metadata": {},
   "outputs": [
    {
     "data": {
      "text/plain": [
       "dict_keys([(7, '7'), ('la risposta', 42), ('la risposta', 'culo')])"
      ]
     },
     "execution_count": 18,
     "metadata": {},
     "output_type": "execute_result"
    }
   ],
   "source": [
    "prova.edges_list.keys()"
   ]
  },
  {
   "cell_type": "code",
   "execution_count": null,
   "id": "210de94e-8e92-481c-b83f-3461fda252d0",
   "metadata": {},
   "outputs": [],
   "source": []
  }
 ],
 "metadata": {
  "kernelspec": {
   "display_name": "Python 3 (ipykernel)",
   "language": "python",
   "name": "python3"
  },
  "language_info": {
   "codemirror_mode": {
    "name": "ipython",
    "version": 3
   },
   "file_extension": ".py",
   "mimetype": "text/x-python",
   "name": "python",
   "nbconvert_exporter": "python",
   "pygments_lexer": "ipython3",
   "version": "3.8.12"
  }
 },
 "nbformat": 4,
 "nbformat_minor": 5
}
