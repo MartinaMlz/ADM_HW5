{
 "cells": [
  {
   "cell_type": "code",
   "execution_count": null,
   "id": "b9549198-bf45-405c-b217-30cc600ec4f9",
   "metadata": {},
   "outputs": [],
   "source": []
  },
  {
   "cell_type": "code",
   "execution_count": 5,
   "id": "2e5cc60f-6244-415e-993d-b4d5de137fb4",
   "metadata": {},
   "outputs": [],
   "source": [
    "import pandas as pd\n",
    "from collections import defaultdict\n",
    "from tqdm.notebook import tqdm\n",
    "import networkx as nx\n",
    "import matplotlib.pyplot as plt"
   ]
  },
  {
   "cell_type": "code",
   "execution_count": 48,
   "id": "a66704db-dfcc-4115-b836-d45a1afe781a",
   "metadata": {},
   "outputs": [],
   "source": [
    "# (global) weight parameters\n",
    "a2q_weight = 0.5\n",
    "c2a_weight = 0.2\n",
    "c2q_weight = 0.3\n",
    "\n",
    "# (global) datasets paths\n",
    "filename_a2q = 'data/sx-stackoverflow-a2q.txt'\n",
    "filename_c2a = 'data/sx-stackoverflow-c2a.txt'\n",
    "filename_c2q = 'data/sx-stackoverflow-c2q.txt'\n",
    "\n",
    "\n",
    "class DiGraph():\n",
    "    '''\n",
    "    basic directed graph\n",
    "    '''\n",
    "    \n",
    "    def __init__(self, default_attribute = None):\n",
    "        \"\"\"\n",
    "        internally we save it both as an adjacency list and as a list of edges\n",
    "        for convenience in computation\n",
    "        \"\"\"\n",
    "        \n",
    "        def default_None_dict():\n",
    "            return defaultdict(lambda : default_attribute)\n",
    "        \n",
    "        self.edges_list = defaultdict(lambda : default_attribute)\n",
    "        self.adjacency = defaultdict(default_None_dict)\n",
    "    \n",
    "    @property\n",
    "    def graph_type(self):\n",
    "        return 'Directed Graph'\n",
    "    \n",
    "    def __repr__(self):\n",
    "        \"\"\"\"\"\"\n",
    "        return 'DiGraph()'\n",
    "    \n",
    "    def __getitem__(self, key):\n",
    "        return list(self.adjacency[key].keys())\n",
    "    \n",
    "    def add_node(self, node):\n",
    "        self.adjacency[node]\n",
    "    \n",
    "    @property\n",
    "    def nodes(self):\n",
    "        return list(self.adjacency.keys())\n",
    "    \n",
    "    @property\n",
    "    def edges(self):\n",
    "        return list(self.edges_list.keys())\n",
    "    \n",
    "    def adj(self):\n",
    "        return(dict(map(lambda x: (x[0], list(x[1].keys())), self.adjacency.items())))\n",
    "    \n",
    "    def add_edge(self, edge0, edge1):\n",
    "        self.add_node(edge1)\n",
    "        self.adjacency[edge0][edge1]\n",
    "        self.edges_list[(edge0, edge1,)]\n",
    "    \n",
    "    @property\n",
    "    def n_nodes(self):\n",
    "        return len(self.adjacency)\n",
    "    \n",
    "    @property\n",
    "    def n_edges(self):\n",
    "        return len(self.edges_list)\n",
    "    \n",
    "    @property\n",
    "    def get_average_links(self):\n",
    "        return self.n_edges / self.n_nodes\n",
    "    \n",
    "    @property\n",
    "    def get_density(self):\n",
    "        possible_edges = self.n_nodes * (self.n_nodes - 1)\n",
    "        return self.n_edges / possible_edges\n",
    "    \n",
    "    @property\n",
    "    def isDense(self):\n",
    "        is_dense = self.get_density >= 0.5\n",
    "        return is_dense\n",
    "    \n",
    "    @property\n",
    "    def isSparse(self):\n",
    "        return (not self.isDense)\n",
    "    \n",
    "    \n",
    "class weightedDiGraph(DiGraph):\n",
    "    '''\n",
    "    weighted directed graph\n",
    "    '''\n",
    "    def __init__(self):\n",
    "        super().__init__(0)\n",
    "    \n",
    "    \n",
    "    def __repr__(self):\n",
    "        \"\"\"\"\"\"\n",
    "        return 'weightedDiGraph()'\n",
    "    \n",
    "    @property\n",
    "    def graph_type(self):\n",
    "        return 'Weighted Directed Graph'\n",
    "    \n",
    "    def __getitem__(self, key):\n",
    "        return dict(self.adjacency[key])\n",
    "    \n",
    "    @property\n",
    "    def edges(self):\n",
    "        return list(self.edges_list.items())\n",
    "    \n",
    "    def adj(self):\n",
    "        return(dict(map(lambda x: (x[0], dict(x[1])), self.adjacency.items())))\n",
    "    \n",
    "    def add_edge(self, edge0, edge1, weight):\n",
    "        self.add_node(edge1)\n",
    "        self.adjacency[edge0][edge1] += weight\n",
    "        self.edges_list[(edge0, edge1)] += weight\n",
    "    \n",
    "    def union(self, another_weightedDiGraph):\n",
    "        for edge, weight in another_weightedDiGraph.edges:\n",
    "            self.add_edge(*edge, weight)\n",
    "        \n",
    "        \n",
    "        \n",
    "        \n",
    "def search_timestamp(edges_list, time, mode):\n",
    "    \n",
    "    if mode == 'start':\n",
    "        if edges_list[0][2] >= time:\n",
    "            return(0)\n",
    "        elif edges_list[-1][2] < time:\n",
    "            raise ValueError('Start time too high in search_timestamp()')\n",
    "    elif mode == 'end':\n",
    "        if edges_list[0][2] > time:\n",
    "            raise ValueError('End time too low in search_timestamp()')\n",
    "        elif edges_list[-1][2] <= time:\n",
    "            return(len(edges_list))\n",
    "    else:\n",
    "        raise ValueError('Third argument in search_timestamp() must be either \"start\" or \"end\"')\n",
    "    \n",
    "    \n",
    "    start_idx = 0\n",
    "    end_idx = len(edges_list)\n",
    "    \n",
    "    while (end_idx - start_idx) > 1:\n",
    "        \n",
    "        middle_idx = (end_idx + start_idx)//2\n",
    "        \n",
    "        if edges_list[middle_idx][2] < time:\n",
    "            start_idx = middle_idx\n",
    "            \n",
    "        elif edges_list[middle_idx][2] > time:\n",
    "            end_idx = middle_idx\n",
    "            \n",
    "        else:\n",
    "            \n",
    "            if mode == 'start':\n",
    "                while (edges_list[middle_idx][2] == time):\n",
    "                    middle_idx -= 1\n",
    "                start_idx = middle_idx + 1\n",
    "                return(start_idx)\n",
    "            else:\n",
    "                while (edges_list[middle_idx][2] == time):\n",
    "                    middle_idx += 1\n",
    "                start_idx = middle_idx\n",
    "                return(start_idx)\n",
    "    \n",
    "    start_idx+=1\n",
    "    \n",
    "    return(start_idx)\n",
    "\n",
    "    \n",
    "class MultiDiGraph(DiGraph):\n",
    "    \n",
    "    def __init__(self):\n",
    "        super().__init__()\n",
    "    \n",
    "    def __repr__(self):\n",
    "        \"\"\"\"\"\"\n",
    "        return 'DiMultiGraph()'\n",
    "    \n",
    "    @property\n",
    "    def graph_type(self):\n",
    "        return 'Directed MultiGraph'\n",
    "    \n",
    "    def add_edge(self, edge0, edge1, timestamp):\n",
    "        self.adjacency[edge1]\n",
    "        self.adjacency[edge0][(edge1, timestamp)]\n",
    "        self.edges_list[(edge0, edge1, timestamp)]\n",
    "    \n",
    "    def get_graph(self, filename, start_time = 0, end_time = 3000000000):\n",
    "        \"\"\"\n",
    "        builds the graph from an input file\n",
    "        \"\"\"\n",
    "        \n",
    "        with open(filename, 'r') as file:\n",
    "            for row in tqdm(file, total = 26000000):\n",
    "                row = row.strip().split()\n",
    "                start_node, end_node, timestamp = list(map(int, row))\n",
    "                timestamp = timestamp # we should round the timestamps HERE###############################################################\n",
    "                if timestamp >= start_time and timestamp <= end_time:\n",
    "                    self.add_edge(start_node, end_node, timestamp)\n",
    "    \n",
    "    \n",
    "    def get_DiGraph_from_interval(self, start_time = None, end_time = None, weight = 1):\n",
    "        '''\n",
    "        builds a digraph that contains only the selected time interval\n",
    "        '''\n",
    "        \n",
    "        if start_time == None:\n",
    "            start_time = self.edges[0][2]\n",
    "        if end_time == None:\n",
    "            end_time = self.edges[-1][2]\n",
    "        \n",
    "        final_graph = weightedDiGraph()\n",
    "        start_edge = search_timestamp(self.edges, start_time, mode = 'start')  # returns the index of the smallest edge\n",
    "                                                                               # with a timestamp bigger or equal than start_time\n",
    "        \n",
    "        end_edge = search_timestamp(self.edges, end_time, mode = 'end')        # returns the index of the smallest edge\n",
    "                                                                               # with a timestamp smaller than end_time\n",
    "        \n",
    "        for edge in self.edges[start_edge : end_edge]:\n",
    "            final_graph.add_edge(*(edge[0:2]), weight)\n",
    "        \n",
    "        return(final_graph)\n",
    "    \n",
    "\n",
    "def get_total_grap(start_time = 0, end_time = 3000000000):  # time limits of our datasets\n",
    "    '''\n",
    "    # onestamente non mi veniva come farlo in termini di metodi\n",
    "    \n",
    "    This function takes in input an interval of time and returns the\n",
    "    \"total\" weighted digraph associated with this interval of time\n",
    "    '''\n",
    "    \n",
    "    # MAGARI QUI POTREMMO PRENDERE IN INPUT OGGETTI TIMESTAMP E CONVERTIRLI IN EPOCH TIME\n",
    "    \n",
    "    # the weight parameters\n",
    "    global a2q_weight\n",
    "    global c2a_weight\n",
    "    global c2q_weight\n",
    "    \n",
    "    # the datasets paths\n",
    "    global filename_a2q\n",
    "    global filename_c2a\n",
    "    global filename_c2q\n",
    "    \n",
    "    # retrieve the first dataset from the disk\n",
    "    print('retrieve the first dataset from the disk')\n",
    "    dataset_graph = MultiDiGraph()\n",
    "    dataset_graph.get_graph(filename_a2q, start_time = start_time, end_time = end_time)\n",
    "    \n",
    "    # select the time interval in the first dataset and build the weighted graph\n",
    "    print('select the time interval in the first dataset')\n",
    "    total_graph = dataset_graph.get_DiGraph_from_interval(start_time = start_time, end_time = end_time, weight = a2q_weight)\n",
    "    \n",
    "    # retrieve the second dataset from the disk\n",
    "    print('retrieve the second dataset from the disk')\n",
    "    dataset_graph = MultiDiGraph()\n",
    "    dataset_graph.get_graph(filename_c2a, start_time = start_time, end_time = end_time)\n",
    "    \n",
    "    # join the second and the first dataset\n",
    "    print('join the second and the first dataset')\n",
    "    total_graph.union(dataset_graph.get_DiGraph_from_interval(start_time = start_time, end_time = end_time, weight = c2a_weight))\n",
    "    \n",
    "    # retrieve the third dataset from the disk\n",
    "    print('retrieve the third dataset from the disk')\n",
    "    dataset_graph = MultiDiGraph()\n",
    "    dataset_graph.get_graph(filename_c2q, start_time = start_time, end_time = end_time)\n",
    "    \n",
    "    # join the third and the other two\n",
    "    print('join the third and the other two')\n",
    "    total_graph.union(dataset_graph.get_DiGraph_from_interval(start_time = start_time, end_time = end_time, weight = c2q_weight))\n",
    "    \n",
    "    return(total_graph)"
   ]
  },
  {
   "cell_type": "markdown",
   "id": "1037450d-aadd-4867-8975-0d2459dc0834",
   "metadata": {},
   "source": [
    "Prova DiGraph()"
   ]
  },
  {
   "cell_type": "code",
   "execution_count": 49,
   "id": "3c9193ce-a602-4823-85ff-81bc13e4828a",
   "metadata": {},
   "outputs": [
    {
     "name": "stdout",
     "output_type": "stream",
     "text": [
      "Lista di adiacenza {}\n",
      "Nodi correnti []\n",
      "Lista di adiacenza {7: [], '7': [], 42: [], 'la risposta': []}\n",
      "Nodi correnti [7, '7', 42, 'la risposta']\n",
      "Lati correnti [(7, '7'), ('la risposta', 42), ('la risposta', 'culo')]\n",
      "Nodi correnti [7, '7', 42, 'la risposta', 'culo']\n",
      "Lista di adiacenza {7: ['7'], '7': [], 42: [], 'la risposta': [42, 'culo'], 'culo': []}\n",
      "Le risposte sono [42, 'culo']\n",
      "Questo grafo è un Directed Graph\n",
      "Ci sono 5 nodi e 3 lati\n",
      "Il numero medio di link è 0.6\n",
      "DiGraph()\n"
     ]
    }
   ],
   "source": [
    "prova = DiGraph()\n",
    "print('Lista di adiacenza', prova.adj())\n",
    "print('Nodi correnti', prova.nodes)\n",
    "prova.add_node(7)\n",
    "prova.add_node('7')\n",
    "prova.add_node(42)\n",
    "prova.add_node('la risposta')\n",
    "print('Lista di adiacenza', prova.adj())\n",
    "print('Nodi correnti', prova.nodes)\n",
    "prova.add_edge(7, '7')\n",
    "prova.add_edge(7, '7')\n",
    "prova.add_edge('la risposta', 42)\n",
    "prova.add_edge('la risposta', 'culo')\n",
    "print('Lati correnti', prova.edges)\n",
    "print('Nodi correnti', prova.nodes)\n",
    "print('Lista di adiacenza', prova.adj())\n",
    "print('Le risposte sono', prova['la risposta'])\n",
    "print('Questo grafo è un', prova.graph_type)\n",
    "print('Ci sono', prova.n_nodes, 'nodi e', prova.n_edges, 'lati')\n",
    "print('Il numero medio di link è', prova.get_average_links)\n",
    "print(prova)"
   ]
  },
  {
   "cell_type": "markdown",
   "id": "e22c516a-6c9b-4752-bdbf-a8a1502a0c44",
   "metadata": {},
   "source": [
    "Prova WeightedDiGraph()"
   ]
  },
  {
   "cell_type": "code",
   "execution_count": 50,
   "id": "207318ce-e947-4c9f-8605-b69b6826b15b",
   "metadata": {},
   "outputs": [
    {
     "name": "stdout",
     "output_type": "stream",
     "text": [
      "Lista di adiacenza {}\n",
      "Nodi correnti []\n",
      "Lista di adiacenza {7: {}, '7': {}, 42: {}, 'la risposta': {}}\n",
      "Nodi correnti [7, '7', 42, 'la risposta']\n",
      "Lati correnti [((7, '7'), 4), (('la risposta', 42), 42), (('la risposta', 'culo'), 17)]\n",
      "Nodi correnti [7, '7', 42, 'la risposta', 'culo']\n",
      "Lista di adiacenza {7: {'7': 4}, '7': {}, 42: {}, 'la risposta': {42: 42, 'culo': 17}, 'culo': {}}\n",
      "Le risposte sono {42: 42, 'culo': 17}\n",
      "Questo grafo è un Weighted Directed Graph\n",
      "Ci sono 5 nodi e 3 lati\n",
      "Il numero medio di link è 0.6\n",
      "weightedDiGraph()\n"
     ]
    }
   ],
   "source": [
    "prova = weightedDiGraph()\n",
    "print('Lista di adiacenza', prova.adj())\n",
    "print('Nodi correnti', prova.nodes)\n",
    "prova.add_node(7)\n",
    "prova.add_node('7')\n",
    "prova.add_node(42)\n",
    "prova.add_node('la risposta')\n",
    "print('Lista di adiacenza', prova.adj())\n",
    "print('Nodi correnti', prova.nodes)\n",
    "prova.add_edge(7, '7', 1)\n",
    "prova.add_edge(7, '7', 3)\n",
    "prova.add_edge('la risposta', 42, 42)\n",
    "prova.add_edge('la risposta', 'culo', 17)\n",
    "print('Lati correnti', prova.edges)\n",
    "print('Nodi correnti', prova.nodes)\n",
    "print('Lista di adiacenza', prova.adj())\n",
    "print('Le risposte sono', prova['la risposta'])\n",
    "print('Questo grafo è un', prova.graph_type)\n",
    "print('Ci sono', prova.n_nodes, 'nodi e', prova.n_edges, 'lati')\n",
    "print('Il numero medio di link è', prova.get_average_links)\n",
    "print(prova)"
   ]
  },
  {
   "cell_type": "code",
   "execution_count": 51,
   "id": "a0ac41a0-734b-4164-8af4-2978a73082fe",
   "metadata": {},
   "outputs": [
    {
     "name": "stdout",
     "output_type": "stream",
     "text": [
      "Lati correnti [((84, '7'), 1), ((7, '7'), 92), (('le risposte', 42), 42), (('le risposte', 'culo'), 17), (('culo', 'la risposta'), 91)]\n",
      "Nodi correnti [84, '9', 173, 'le risposte', '7', 7, 42, 'culo', 'la risposta']\n",
      "Lista di adiacenza {84: {'7': 1}, '9': {}, 173: {}, 'le risposte': {42: 42, 'culo': 17}, '7': {}, 7: {'7': 92}, 42: {}, 'culo': {'la risposta': 91}, 'la risposta': {}}\n",
      "Le risposte sono {}\n",
      "Questo grafo è un Weighted Directed Graph\n",
      "Ci sono 9 nodi e 5 lati\n",
      "Il numero medio di link è 0.5555555555555556\n",
      "weightedDiGraph()\n"
     ]
    }
   ],
   "source": [
    "prova2 = weightedDiGraph()\n",
    "prova2.add_node(84)\n",
    "prova2.add_node('9')\n",
    "prova2.add_node(173)\n",
    "prova2.add_node('le risposte')\n",
    "prova2.add_edge(84, '7', 1)\n",
    "prova2.add_edge(7, '7', 92)\n",
    "prova2.add_edge('le risposte', 42, 42)\n",
    "prova2.add_edge('le risposte', 'culo', 17)\n",
    "prova2.add_edge('culo', 'la risposta', 91)\n",
    "print('Lati correnti', prova2.edges)\n",
    "print('Nodi correnti', prova2.nodes)\n",
    "print('Lista di adiacenza', prova2.adj())\n",
    "print('Le risposte sono', prova2['la risposta'])\n",
    "print('Questo grafo è un', prova2.graph_type)\n",
    "print('Ci sono', prova2.n_nodes, 'nodi e', prova2.n_edges, 'lati')\n",
    "print('Il numero medio di link è', prova2.get_average_links)\n",
    "print(prova2)"
   ]
  },
  {
   "cell_type": "code",
   "execution_count": 52,
   "id": "aeb0fd08-b3bc-43e0-81f5-761c190a478a",
   "metadata": {},
   "outputs": [
    {
     "name": "stdout",
     "output_type": "stream",
     "text": [
      "Lati correnti [((84, '7'), 1), ((7, '7'), 96), (('le risposte', 42), 42), (('le risposte', 'culo'), 17), (('culo', 'la risposta'), 91), (('la risposta', 42), 42), (('la risposta', 'culo'), 17)]\n",
      "Nodi correnti [84, '9', 173, 'le risposte', '7', 7, 42, 'culo', 'la risposta']\n",
      "Lista di adiacenza {84: {'7': 1}, '9': {}, 173: {}, 'le risposte': {42: 42, 'culo': 17}, '7': {}, 7: {'7': 96}, 42: {}, 'culo': {'la risposta': 91}, 'la risposta': {42: 42, 'culo': 17}}\n",
      "Le risposte sono {42: 42, 'culo': 17}\n",
      "Questo grafo è un Weighted Directed Graph\n",
      "Ci sono 9 nodi e 7 lati\n",
      "Il numero medio di link è 0.7777777777777778\n",
      "weightedDiGraph()\n"
     ]
    }
   ],
   "source": [
    "prova2.union(prova)\n",
    "print('Lati correnti', prova2.edges)\n",
    "print('Nodi correnti', prova2.nodes)\n",
    "print('Lista di adiacenza', prova2.adj())\n",
    "print('Le risposte sono', prova2['la risposta'])\n",
    "print('Questo grafo è un', prova2.graph_type)\n",
    "print('Ci sono', prova2.n_nodes, 'nodi e', prova2.n_edges, 'lati')\n",
    "print('Il numero medio di link è', prova2.get_average_links)\n",
    "print(prova2)"
   ]
  },
  {
   "cell_type": "markdown",
   "id": "0c5066d5-b717-4204-9af2-d6c33e015c45",
   "metadata": {},
   "source": [
    "Prova MultiDiGraph()"
   ]
  },
  {
   "cell_type": "code",
   "execution_count": 103,
   "id": "c4b0052c-6c7f-4c93-9b68-ffc48bd9c3e9",
   "metadata": {},
   "outputs": [
    {
     "name": "stdout",
     "output_type": "stream",
     "text": [
      "Lista di adiacenza {}\n",
      "Nodi correnti []\n",
      "Lista di adiacenza {7: [], '7': [], 42: [], 'la risposta': []}\n",
      "Nodi correnti [7, '7', 42, 'la risposta']\n",
      "Lati correnti [(7, '7', 7), ('la risposta', 42, 42), ('la risposta', 'culo', 45), (7, '7', 98)]\n",
      "Nodi correnti [7, '7', 42, 'la risposta', 'culo']\n",
      "Lista di adiacenza {7: [('7', 7), ('7', 98)], '7': [], 42: [], 'la risposta': [(42, 42), ('culo', 45)], 'culo': []}\n",
      "Le risposte sono [(42, 42), ('culo', 45)]\n",
      "Questo grafo è un Directed MultiGraph\n",
      "Ci sono 5 nodi e 4 lati\n",
      "Il numero medio di link è 0.8\n",
      "DiMultiGraph()\n"
     ]
    }
   ],
   "source": [
    "prova = MultiDiGraph()\n",
    "print('Lista di adiacenza', prova.adj())\n",
    "print('Nodi correnti', prova.nodes)\n",
    "prova.add_node(7)\n",
    "prova.add_node('7')\n",
    "prova.add_node(42)\n",
    "prova.add_node('la risposta')\n",
    "print('Lista di adiacenza', prova.adj())\n",
    "print('Nodi correnti', prova.nodes)\n",
    "prova.add_edge(7, '7', 7)\n",
    "prova.add_edge('la risposta', 42, 42)\n",
    "prova.add_edge('la risposta', 'culo', 45)\n",
    "prova.add_edge(7, '7', 98)\n",
    "print('Lati correnti', prova.edges)\n",
    "print('Nodi correnti', prova.nodes)\n",
    "print('Lista di adiacenza', prova.adj())\n",
    "print('Le risposte sono', prova['la risposta'])\n",
    "print('Questo grafo è un', prova.graph_type)\n",
    "print('Ci sono', prova.n_nodes, 'nodi e', prova.n_edges, 'lati')\n",
    "print('Il numero medio di link è', prova.get_average_links)\n",
    "print(prova)"
   ]
  },
  {
   "cell_type": "code",
   "execution_count": 107,
   "id": "1a8ac82b-e750-4938-9d6f-1cb3a262a234",
   "metadata": {},
   "outputs": [
    {
     "name": "stdout",
     "output_type": "stream",
     "text": [
      "{42: {}, 'la risposta': {42: 1, 'culo': 1}, 'culo': {}}\n",
      "[(('la risposta', 42), 1), (('la risposta', 'culo'), 1)]\n"
     ]
    }
   ],
   "source": [
    "wow = prova.get_DiGraph_from_interval(start_time = 41.1, end_time = 45, weight = 1)\n",
    "print(wow.adj())\n",
    "print(wow.edges)"
   ]
  },
  {
   "cell_type": "code",
   "execution_count": 116,
   "id": "6d024840-05ca-4b19-a5f7-31b2167f70ac",
   "metadata": {},
   "outputs": [
    {
     "data": {
      "application/vnd.jupyter.widget-view+json": {
       "model_id": "6a9c5d22de794ad9b09b1fd162dfa107",
       "version_major": 2,
       "version_minor": 0
      },
      "text/plain": [
       "0it [00:00, ?it/s]"
      ]
     },
     "metadata": {},
     "output_type": "display_data"
    }
   ],
   "source": [
    "filename = 'data/sx-stackoverflow-a2q.txt'\n",
    "prova_dataset = MultiDiGraph()\n",
    "prova_dataset.get_graph(filename)\n",
    "woah1 = prova_dataset.get_DiGraph_from_interval(start_time = 1200000000, end_time = 1300000000, weight = 1)"
   ]
  },
  {
   "cell_type": "code",
   "execution_count": 117,
   "id": "af749774-f02c-434d-825a-e14f0da306b1",
   "metadata": {},
   "outputs": [
    {
     "data": {
      "application/vnd.jupyter.widget-view+json": {
       "model_id": "e8519c51934248158f6100323826bfec",
       "version_major": 2,
       "version_minor": 0
      },
      "text/plain": [
       "0it [00:00, ?it/s]"
      ]
     },
     "metadata": {},
     "output_type": "display_data"
    }
   ],
   "source": [
    "filename = 'data/sx-stackoverflow-c2a.txt'\n",
    "prova_dataset = MultiDiGraph()\n",
    "prova_dataset.get_graph(filename)\n",
    "woah2 = prova_dataset.get_DiGraph_from_interval(start_time = 1200000000, end_time = 1300000000, weight = 0.5)"
   ]
  },
  {
   "cell_type": "code",
   "execution_count": 118,
   "id": "93c656e2-d7b7-498e-9782-8e13d39a2b3c",
   "metadata": {},
   "outputs": [],
   "source": [
    "woah1.union(woah2)"
   ]
  },
  {
   "cell_type": "code",
   "execution_count": 124,
   "id": "9febf861-0e83-4b6d-a33b-515042e7653f",
   "metadata": {},
   "outputs": [],
   "source": [
    "woah1.adj()"
   ]
  },
  {
   "cell_type": "markdown",
   "id": "580ea341-01b9-480f-958b-799cbceac8b4",
   "metadata": {},
   "source": [
    "Questa è per prendere il grafone unito"
   ]
  },
  {
   "cell_type": "code",
   "execution_count": 7,
   "id": "923ac2d0-f713-473a-b01a-d7512f46c77c",
   "metadata": {},
   "outputs": [
    {
     "name": "stdout",
     "output_type": "stream",
     "text": [
      "retrieve the first dataset from the disk\n"
     ]
    },
    {
     "data": {
      "application/vnd.jupyter.widget-view+json": {
       "model_id": "39666c87091c40e3a75dc256126fba95",
       "version_major": 2,
       "version_minor": 0
      },
      "text/plain": [
       "  0%|          | 0/26000000 [00:00<?, ?it/s]"
      ]
     },
     "metadata": {},
     "output_type": "display_data"
    },
    {
     "name": "stdout",
     "output_type": "stream",
     "text": [
      "select the time interval in the first dataset\n",
      "retrieve the second dataset from the disk\n"
     ]
    },
    {
     "data": {
      "application/vnd.jupyter.widget-view+json": {
       "model_id": "dab7daa5caf8484eb18e0807f154025a",
       "version_major": 2,
       "version_minor": 0
      },
      "text/plain": [
       "  0%|          | 0/26000000 [00:00<?, ?it/s]"
      ]
     },
     "metadata": {},
     "output_type": "display_data"
    },
    {
     "name": "stdout",
     "output_type": "stream",
     "text": [
      "join the second and the first dataset\n",
      "retrieve the third dataset from the disk\n"
     ]
    },
    {
     "data": {
      "application/vnd.jupyter.widget-view+json": {
       "model_id": "ebbe1304268b4df2b52614768b5f220d",
       "version_major": 2,
       "version_minor": 0
      },
      "text/plain": [
       "  0%|          | 0/26000000 [00:00<?, ?it/s]"
      ]
     },
     "metadata": {},
     "output_type": "display_data"
    },
    {
     "name": "stdout",
     "output_type": "stream",
     "text": [
      "join the third and the other two\n"
     ]
    }
   ],
   "source": [
    "# la barra di avanzamento ha un totale sbagliato,\n",
    "# ci ho messo il numero più grande che poteva raggiungere tanto per avere un upper bound\n",
    "# quindi è normale che si fermi prima del 100%\n",
    "# è un po' poco estetico, magari poi la leviamo\n",
    "\n",
    "# c'è una barra per ogni volta che si va a leggere il dataset dal disco\n",
    "# tra le varie barre di caricamento seleziona l'intervallo di tempo e unisce i grafi\n",
    "# ci mette più di quel che pensassi...\n",
    "total_graph = get_total_grap(start_time = 1300050000, end_time = 1300060000)"
   ]
  },
  {
   "cell_type": "code",
   "execution_count": null,
   "id": "c1887449-4e6f-471a-ae81-f2dc087a4683",
   "metadata": {},
   "outputs": [],
   "source": [
    "total_graph.adj()"
   ]
  },
  {
   "cell_type": "code",
   "execution_count": null,
   "id": "3b1f19c7-10e2-4930-90cf-fcb9d0d1a2f6",
   "metadata": {},
   "outputs": [],
   "source": []
  },
  {
   "cell_type": "markdown",
   "id": "0d8a7b7b-cb03-4efa-a249-48d5db663a2f",
   "metadata": {},
   "source": [
    "# Functionality 4"
   ]
  },
  {
   "cell_type": "markdown",
   "id": "225d53b0-f57f-4bc9-b499-8adfdc6fd90f",
   "metadata": {},
   "source": [
    "To solve this problem, we will going to use graph flow theory. We based our implementation and the considerations on the book \"Introduction to Algorithms\" by Cormen, Leiserson, Rivest, and Stein; the details and the proofs about our statement can be found there.\n",
    "\n",
    "Given a directed weighted graph, we want to disconnect two users from each other cutting the minimum number of edges (with their weight). We will start by considering simpler cases, and we will implement an heuristic for the most general case. Before proceeding we want to make a remark: in a directed graph the statement \"user A is disconnected from user B\" means that there is no directed path from A to B, this implies that the fact that user A is disconnected from user B is independent of the fact that user B is disconnected from user A; our goal is to disconnect both A from B and B from A at the same time, while keeping a minimum cut on all the edges. We consider:\n",
    "1. The problem of disconnecting a \"source\" node from a \"sink\" node while keeping a minimum cut on the edges\n",
    "2. The problem of disconnecting a node A from a node B in a directed graph while keeping a minimum cut on the edges\n",
    "3. The problem of disconnecting both a node A from a node B and node B from a node A in a directed acyclical graph while keeping a minimum cut on the edges\n",
    "4. The general problem of disconnecting both a node A from a node B and node B from a node A in a directed graph while keeping a minimum cut on the edges\n",
    "\n",
    "### 1.\n",
    "The first problem in the list is easy: the max-flow min-cut theorem states that the maximum amount of flow passing from the source to the sink is equal to the total weight of the edges in the minimum cut, and, leveraging the Ford-Fulkerson method for finding the maximum flow, we can find this minimum cut removing those edges that are \"saturated\" in the condition of maximum flow.\n",
    "\n",
    "### 2.\n",
    "This problem is analogous to the previous one: we just miss a \"source\" node and a \"sink\" node. To solve the problem we add a source node with an edge that points to A and a large weight (virtually infinite, but every large number will be fine: we just need to be sure that it does not saturates), and a sink node with an edge that point from B to the sink and a large weight (as before). This newly obtained graph can be analyzed using the previous method, and the solution will be equivalent to the starting graph.\n",
    "\n",
    "### 3.\n",
    "We now want to disconnect both A from B and B from A, the procedure seems straightforward: disconnect A from B and B from A by applying the previous method and then join the result to get the minimum cut, this, however, may not give the optimal solution; here we give a simple example."
   ]
  },
  {
   "cell_type": "code",
   "execution_count": 47,
   "id": "45597e71-3b21-45b2-888c-7cda0a8777c0",
   "metadata": {
    "tags": []
   },
   "outputs": [
    {
     "data": {
      "image/png": "[encoded data removed]",
      "text/plain": [
       "<Figure size 1440x360 with 3 Axes>"
      ]
     },
     "metadata": {},
     "output_type": "display_data"
    }
   ],
   "source": [
    "plt.figure(figsize = (20,5))\n",
    "DG = nx.DiGraph()\n",
    "DG.add_node('A',pos=(1,0))\n",
    "DG.add_node('C',pos=(2,-1))\n",
    "DG.add_node('D',pos=(2,1))\n",
    "DG.add_node('B',pos=(3,0))\n",
    "DG.add_weighted_edges_from([('A','C',1), ('C','D',1.5), ('D','A',3), ('D','B',3), ('B','C',1)])\n",
    "\n",
    "pos_attrs = {'s':(0,0.2), 'S': (4,0.2)}\n",
    "custom_node_attrs = {'s': 'Source', 'S': 'Sink'}\n",
    "\n",
    "subax1 = plt.subplot(131)\n",
    "pos=nx.get_node_attributes(DG,'pos')\n",
    "nx.draw(DG,pos, with_labels = True)\n",
    "nx.draw_networkx_labels(DG, pos_attrs, labels=custom_node_attrs)\n",
    "labels = nx.get_edge_attributes(DG,'weight')\n",
    "nx.draw_networkx_edge_labels(DG,pos,edge_labels=labels)\n",
    "\n",
    "\n",
    "DG2 = nx.DiGraph()\n",
    "DG2.add_node('A',pos=(1,0))\n",
    "DG2.add_node('C',pos=(2,-1))\n",
    "DG2.add_node('D',pos=(2,1))\n",
    "DG2.add_node('B',pos=(3,0))\n",
    "DG2.add_node('S',pos=(4,0))\n",
    "DG2.add_node('s',pos=(0,0))\n",
    "DG2.add_weighted_edges_from([('s', 'A', 10), ('B', 'S', 10), ('A','C',1), ('C','D',1.5), ('D','A',3), ('D','B',3), ('B','C',1)])\n",
    "\n",
    "pos_attrs = {'s':(0,0.2), 'S': (4,0.2)}\n",
    "custom_node_attrs = {'s': 'Source', 'S': 'Sink'}\n",
    "\n",
    "subax2 = plt.subplot(132)\n",
    "pos=nx.get_node_attributes(DG2,'pos')\n",
    "nx.draw(DG2,pos, with_labels = True)\n",
    "nx.draw_networkx_labels(DG2, pos_attrs, labels=custom_node_attrs)\n",
    "labels = nx.get_edge_attributes(DG2,'weight')\n",
    "nx.draw_networkx_edge_labels(DG2,pos,edge_labels=labels)\n",
    "\n",
    "DG3 = nx.DiGraph()\n",
    "DG3.add_node('A',pos=(1,0))\n",
    "DG3.add_node('C',pos=(2,-1))\n",
    "DG3.add_node('D',pos=(2,1))\n",
    "DG3.add_node('B',pos=(3,0))\n",
    "DG3.add_node('s',pos=(4,0))\n",
    "DG3.add_node('S',pos=(0,0))\n",
    "DG3.add_weighted_edges_from([('A', 'S', 10), ('s', 'B', 10), ('A','C',1), ('C','D',1.5), ('D','A',3), ('D','B',3), ('B','C',1)])\n",
    "\n",
    "pos_attrs = {'S':(0,0.2), 's': (4,0.2)}\n",
    "custom_node_attrs = {'s': 'Source', 'S': 'Sink'}\n",
    "\n",
    "subax3 = plt.subplot(133)\n",
    "pos=nx.get_node_attributes(DG3,'pos')\n",
    "nx.draw(DG3,pos, with_labels = True)\n",
    "nx.draw_networkx_labels(DG3, pos_attrs, labels=custom_node_attrs)\n",
    "labels = nx.get_edge_attributes(DG3,'weight')\n",
    "nx.draw_networkx_edge_labels(DG3,pos,edge_labels=labels)\n",
    "\n",
    "plt.show()"
   ]
  },
  {
   "cell_type": "markdown",
   "id": "c4ab311f-2daf-4536-b328-96653e131c8a",
   "metadata": {},
   "source": [
    "In this case, applying the Ford Fulkerson method to the first graph means applying it to the second and to the third, and then joining the result. In the second graph the optimal solution is removing the edge from A to C, while in the second is the edge from B to C. So removing this two edges from the original graph would disconnect A and B with a total cost of of 2, but the optimal solution would be removing just the edge from C to D (with a total cost of 1.5). The problem here is that exists two paths (one from A to B and the other from B to A) that have a common edge, which is equivalent to the existence of two distinct cycles (one that contains A and not B, and another that contains B and not A) that have a common edge. So this last case would be our exact hypotesis; in this framework, as said before, to find the optimal solution we can just apply the Ford Fulkerson method twice and join the solutions.\n",
    "\n",
    "### 4.\n",
    "We did not manage to find an algorithm to solve the general problem and that does not involve checking all the possible combinations of cuts. For this reason, we provide an heuristic: upon starting the algorithm we search for all the possible couple of cycles containing A and B, we intersect each possible pairs and collect a set of edges, we remove the one with the lighter weight, and then we repeat until there are no common edges left. At this point we can proceed as described in the previous case.\n",
    "\n",
    "This is a very simple heuristic, and can easily fail (for example in the graph above by substituing the weights 1 with 0.5), it is though a useful step of simplification in the problem, and we did not feel like neither spending more time on it, nor adding another layer of complexity to the algorithm. Moreover, specifically for this last reason, we decided to implement the Ford Fulkerson method for finding the maximum flow, instead of the faster Push Relabel or Push to Front algorithms."
   ]
  },
  {
   "cell_type": "code",
   "execution_count": 53,
   "id": "26000db2-d9b6-4a8f-9c3a-b9102290cb57",
   "metadata": {},
   "outputs": [],
   "source": [
    "def functionality4(interval1, interval2, user1, user2):\n",
    "    heuristc = False\n",
    "    \n",
    "    total_graph = get_total_grap(*interval1)\n",
    "    total_graph.union(get_total_grap(*interval2))\n",
    "    \n",
    "    cycle_edges = remove_cycles(total_graph, user1, user2)\n",
    "    \n",
    "    edges = find_min_cut(total_graph, user1, user2)\n",
    "    \n",
    "    if len(cycle_edges)>0:\n",
    "        heuristc = True\n",
    "        edges.update(cycle_edges)\n",
    "    \n",
    "    \n",
    "    total_cost = 0\n",
    "    for edge in edges:\n",
    "        total_cost += total_graph.edges_list[edge]\n",
    "    \n",
    "    return heuristc, total_cost, edges\n",
    "\n",
    "def find_min_cut(graph, user1, user2):\n",
    "    \n",
    "    cut_1_to_2 = find_min_cut_A_to_B(graph, user1, user2)\n",
    "    cut_2_to_1 = find_min_cut_A_to_B(graph, user2, user1)\n",
    "\n",
    "    return( set.union(cut_1_to_2, cut_2_to_1) )\n",
    "\n",
    "def find_min_cut_A_to_B(graph, user1, user2):\n",
    "    \n",
    "    # the weight of the edge from the source to user1 will be\n",
    "    # greater than the sum of all the outgoing weights from user1\n",
    "    source_weight = 1\n",
    "    for weights in graph.adjacency[user1].values():\n",
    "        source_weight += weight\n",
    "    graph.add_edge('source', user1, source_weight)\n",
    "    \n",
    "    # it is sufficient to have sink_weight == source_weight for these\n",
    "    # nodes to not influence the outcome of the algorithm\n",
    "    sink_weight = source_weight\n",
    "    graph.add_edge(user2, 'sink', sink_weight)\n",
    "    \n",
    "    flow = find_max_flow(graph)\n",
    "    \n",
    "    graph.remove('source')\n",
    "    graph.remove('sink')\n",
    "    \n",
    "    selected_edges = set()\n",
    "    for edge, weight in graph.edges_list.items():\n",
    "        if flow[edge] == weight:\n",
    "            selected_edges.add(edge)\n",
    "    \n",
    "    return(selected_edges)\n",
    "\n",
    "def remove_cycles(total_graph, user1, user2):\n",
    "    common_edges = set()\n",
    "    \n",
    "    \n",
    "    return common_edges\n",
    "\n",
    "def find_max_flow(graph, source = 'source', sink = 'sink'):\n",
    "    flow_dict = defaultdict(lambda x: 0) # maybe?\n",
    "    \n",
    "    \n",
    "    return (flow_dict)"
   ]
  },
  {
   "cell_type": "code",
   "execution_count": null,
   "id": "33015f32-cf79-44a1-b69a-08aa2c7a0e87",
   "metadata": {},
   "outputs": [],
   "source": []
  }
 ],
 "metadata": {
  "kernelspec": {
   "display_name": "Python 3 (ipykernel)",
   "language": "python",
   "name": "python3"
  },
  "language_info": {
   "codemirror_mode": {
    "name": "ipython",
    "version": 3
   },
   "file_extension": ".py",
   "mimetype": "text/x-python",
   "name": "python",
   "nbconvert_exporter": "python",
   "pygments_lexer": "ipython3",
   "version": "3.8.12"
  }
 },
 "nbformat": 4,
 "nbformat_minor": 5
}
