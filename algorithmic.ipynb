{
 "cells": [
  {
   "cell_type": "markdown",
   "id": "d58b3fad-109f-487c-a60b-a07c6f3a4a67",
   "metadata": {},
   "source": [
    "# 4. Algorithmic question \n",
    "\n",
    "A number ***n*** of kids are in a camp. Between some ***k*** pairs of them (a kid can be part of more than one pairs) there are often fights. At night there are two dormitories where the kids can sleep. We want, if possible, to assign each kid in one of the two dormitories in such a way that each pair of kids that fights often is assigned to a different dormitory. (There are no space problems and the two dormitories can have different number of kids.)\n",
    "\n",
    "Give an algorithm that is linear in ***n*** and ***k*** that is able to answer whether such an assignment is possible and, if so, return one."
   ]
  },
  {
   "cell_type": "markdown",
   "id": "d97a1791-a74b-4a18-ad99-01b9989410e6",
   "metadata": {},
   "source": [
    "We formalize the given instruction using a graph in which every node is a kid, and every edge is an \"hate relationship\" between them, i.e. two kids are connected only if they fight often. So we have a graph $(V,E)$ with $n$ nodes and $k$ edges, the problem then translates in being able to split $V$ into two subset with the following property: if two nodes are connected by an edge, they are not in the same subset.\n",
    "\n",
    "We'll give a description of the algorithm in pseudocode and then we'll implement it in python. To start, we'll suppose that the input graph is connected, if it isn't it's sufficient to apply the algorithm to every connected component and then join the eventual solution (which is trivial, since two nodes coming from disconnected component are, by definition, not connected).\n",
    "\n",
    "Our algorithm is based on the depth-first search algorithm, so let ```G``` be a connected graph.\n",
    "\n",
    "```\n",
    "kidOrganizer(G):\n",
    "    Let Q be an empty stack\n",
    "    \n",
    "    dorm[v] = NotAssigned   for every node v    # array that says to which dorm the kid v should be assigned (if dorm 0 or dorm 1)\n",
    "    \n",
    "    s = random starting node in G\n",
    "    dorm[s] = 0    # we assign the first kid to dorm 0\n",
    "    Q.push(s)\n",
    "    \n",
    "    while Q is not empty:\n",
    "        \n",
    "        v = Q.pop()\n",
    "        \n",
    "        for u in neighbours(v):\n",
    "            if dorm[u] is NotAssigned:\n",
    "                dorm[u] = (dorm[v] + 1)%2  # changes the dorm from 0 to 1, or from 1 to 0\n",
    "                Q.push(u)\n",
    "                \n",
    "            elif dorm[u] == dorm[v]:\n",
    "                print('There is no solution for the given graph, the kids are doomed to fight until just one remains. Welcome to the thunderdome.')\n",
    "                return(None)\n",
    "    \n",
    "    return(dorm)\n",
    "```\n",
    "\n",
    "For a connected graph $G$ with $n$ nodes and $k$ edges, this algorithm has a $O(k)$ complexity.\n",
    "\n",
    "We will now give a python implementation of the algorithm in the general case of a disconnected graph. We will assume that the input graph $G$ is passed as an adjacency list."
   ]
  },
  {
   "cell_type": "code",
   "execution_count": 23,
   "id": "02550689-5502-4ae8-99a8-5492c122ed55",
   "metadata": {},
   "outputs": [],
   "source": [
    "def general_kidOrganizer(G):\n",
    "    '''\n",
    "    INPUT: G is the adjacency list of the input graph G\n",
    "    \n",
    "    OUTPUT: list that contains in the i-th position the dorm (0 or 1) to which the i-th kid should be assigned\n",
    "    '''\n",
    "    \n",
    "    n = len(G)\n",
    "    \n",
    "    dorm = [-1]*n   # list that says to which dorm the kid v should be assigned (if dorm 0 or dorm 1)\n",
    "                    # -1 is 'not assigned'\n",
    "    \n",
    "    total_nodes = 0\n",
    "    while (total_nodes<n):\n",
    "        \n",
    "        s = getNextNode(dorm)\n",
    "        \n",
    "        processed_nodes = kidOrganizer(G, dorm, s)\n",
    "        \n",
    "        if processed_nodes == 0:\n",
    "            print('There is no solution for the given graph, the kids are doomed to fight until just one (or maybe more) remains.\\n\\nWelcome to the thunderdome.\\n')\n",
    "            return([])\n",
    "        \n",
    "        total_nodes += processed_nodes\n",
    "    \n",
    "    return(dorm)\n",
    "\n",
    "def getNextNode(dorm):\n",
    "    '''\n",
    "    retrieves the first non assigned node in the graph\n",
    "    '''\n",
    "    \n",
    "    for idx, dormitory in enumerate(dorm):\n",
    "        if dormitory == -1:\n",
    "            return(idx)\n",
    "    \n",
    "    # the function should never be called if there are no not-assigned nodes left\n",
    "    return\n",
    "\n",
    "def kidOrganizer(G, dorm, s):\n",
    "    '''\n",
    "    Organize the kids that belongs to the same connected components as the node s\n",
    "    and returns the number of assigned kids\n",
    "    \n",
    "    input: adjacency list of graph,\n",
    "           dormitory list,\n",
    "           starting node\n",
    "    '''\n",
    "    \n",
    "    Q = []  # this list will be used as a stack\n",
    "    \n",
    "    dorm[s] = 0    # we assign the first kid to dorm 0\n",
    "    \n",
    "    # push s in the stack\n",
    "    Q.append(s)\n",
    "    \n",
    "    processed_nodes = 0\n",
    "    while len(Q)>0:\n",
    "        \n",
    "        v = Q.pop()\n",
    "        processed_nodes += 1\n",
    "        \n",
    "        for u in G[v]:\n",
    "            \n",
    "            if dorm[u]==-1:\n",
    "                dorm[u] = (dorm[v] + 1)%2  # changes the dorm from 0 to 1, or from 1 to 0\n",
    "                Q.append(u)   # push u in the stack\n",
    "                \n",
    "            elif dorm[u] == dorm[v]:\n",
    "                return(0)\n",
    "    \n",
    "    return(processed_nodes)"
   ]
  },
  {
   "cell_type": "markdown",
   "id": "eb38b7eb-b835-4098-9ce4-6a1b5050c108",
   "metadata": {},
   "source": [
    "The while cycle in the algorithm is repeated once for every connected components in the graph; denoting with $n_i$ and $k_i$ the number of nodes and edges of the $i^{th}$ connected component, then the $i^{th}$ iteration is completed in $O(\\sum_{j=0}^{i-1}n_j + k_i)$ steps (it takes at most a number of steps equal to the total visited nodes to execute ```getNextNode()```, and at most $O(k_j)$ to execute ```kidOrganizer()```). So the complexity of the algorithm is at most $O(K(n+k))$ where $K$ is the number of connected components of $G$."
   ]
  },
  {
   "cell_type": "code",
   "execution_count": 24,
   "id": "b21179c8-5a34-40b4-9b5f-5330f89e9bb7",
   "metadata": {},
   "outputs": [
    {
     "name": "stdout",
     "output_type": "stream",
     "text": [
      "There is no solution for the given graph, the kids are doomed to fight until just one (or maybe more) remains.\n",
      "\n",
      "Welcome to the thunderdome.\n",
      "\n"
     ]
    }
   ],
   "source": [
    "G=[[1,3,5],[0,2],[1],[0,5],[],[0,3]]   # there is a 3-cycle (1,3,5) here, so there is no solution\n",
    "dorm = general_kidOrganizer(G)\n",
    "for idx, dorm in enumerate(dorm):\n",
    "    print(f'Kid {idx} goes in dorm {dorm}')"
   ]
  },
  {
   "cell_type": "code",
   "execution_count": 25,
   "id": "5b40c52e-b61f-4bb5-8f02-043a97bb1bf8",
   "metadata": {},
   "outputs": [
    {
     "name": "stdout",
     "output_type": "stream",
     "text": [
      "Kid 0 goes in dorm 0\n",
      "Kid 1 goes in dorm 1\n",
      "Kid 2 goes in dorm 0\n",
      "Kid 3 goes in dorm 0\n",
      "Kid 4 goes in dorm 0\n",
      "Kid 5 goes in dorm 1\n"
     ]
    }
   ],
   "source": [
    "G=[[1,5],[0,2],[1],[5],[],[0,3]]      # this graph is composed by two disjoint trees, so there is a solution\n",
    "dorm = general_kidOrganizer(G)\n",
    "for idx, dorm in enumerate(dorm):\n",
    "    print(f'Kid {idx} goes in dorm {dorm}')"
   ]
  }
 ],
 "metadata": {
  "kernelspec": {
   "display_name": "Python 3 (ipykernel)",
   "language": "python",
   "name": "python3"
  },
  "language_info": {
   "codemirror_mode": {
    "name": "ipython",
    "version": 3
   },
   "file_extension": ".py",
   "mimetype": "text/x-python",
   "name": "python",
   "nbconvert_exporter": "python",
   "pygments_lexer": "ipython3",
   "version": "3.8.12"
  }
 },
 "nbformat": 4,
 "nbformat_minor": 5
}
